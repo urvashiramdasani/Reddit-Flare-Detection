{
  "nbformat": 4,
  "nbformat_minor": 0,
  "metadata": {
    "colab": {
      "name": "Reddit_Flair_Detection.ipynb",
      "provenance": [],
      "collapsed_sections": [],
      "authorship_tag": "ABX9TyPI0Kc+L9cGktZT4uf2B2Tx",
      "include_colab_link": true
    },
    "kernelspec": {
      "name": "python3",
      "display_name": "Python 3"
    }
  },
  "cells": [
    {
      "cell_type": "markdown",
      "metadata": {
        "id": "view-in-github",
        "colab_type": "text"
      },
      "source": [
        "<a href=\"https://colab.research.google.com/github/urvashiramdasani/Reddit-Flare-Detection/blob/master/Reddit_Flair_Detection.ipynb\" target=\"_parent\"><img src=\"https://colab.research.google.com/assets/colab-badge.svg\" alt=\"Open In Colab\"/></a>"
      ]
    },
    {
      "cell_type": "markdown",
      "metadata": {
        "id": "P7dhAz22lxS4"
      },
      "source": [
        "This notebook is maintained as a part of CODETROPHS Internship task. It builds a model which assigns a flair to a reddit post. It contains the following sections - \n",
        "1. Data Collection - Using web scraping of reddit.com.\n",
        "2. Exploratory Data Analysis - Extracting useful information from the collected data.\n",
        "3. Build a Flare Detector - Building various models using Natural Language Processing (NLP) and selecting the best among them.\n"
      ]
    },
    {
      "cell_type": "markdown",
      "metadata": {
        "id": "i2zuP4lR9SJp"
      },
      "source": [
        "## Data Collection"
      ]
    },
    {
      "cell_type": "code",
      "metadata": {
        "colab": {
          "base_uri": "https://localhost:8080/"
        },
        "id": "Mz3BCGbA_II4",
        "outputId": "2385a09f-679e-45f8-c6d5-5c86bdce85ad"
      },
      "source": [
        "!pip install -q praw"
      ],
      "execution_count": 4,
      "outputs": [
        {
          "output_type": "stream",
          "text": [
            "\u001b[K     |████████████████████████████████| 153kB 6.0MB/s \n",
            "\u001b[K     |████████████████████████████████| 204kB 40.5MB/s \n",
            "\u001b[?25h"
          ],
          "name": "stdout"
        }
      ]
    },
    {
      "cell_type": "code",
      "metadata": {
        "id": "tOKHYhqS7YC5"
      },
      "source": [
        "# Web Scraping using PRAW - Python Reddit API Wrapper\n",
        "\n",
        "import praw\n",
        "reddit = praw.Reddit(client_id = \"fetMsk0M5GBU3Q\", client_secret = \"V8rQ_GfA6iqPcKrRRY6suL8pA5v36Q\", user_agent = \"my user agent\", \n",
        "                     username = \"urvashiramdasani\", password = \"Thunder_code18\")"
      ],
      "execution_count": 30,
      "outputs": []
    },
    {
      "cell_type": "code",
      "metadata": {
        "colab": {
          "base_uri": "https://localhost:8080/"
        },
        "id": "1VLqbQ6TEsbp",
        "outputId": "e9440ee0-8181-4e58-f4b3-4bd6ced26a1a"
      },
      "source": [
        "# Get the post names and flair for each post and store them\n",
        "\n",
        "title = []\n",
        "flair = []\n",
        "subreddit = reddit.subreddit('india')\n",
        "for sub in subreddit.top(limit = None):\n",
        "  title.append(sub.title)\n",
        "  flair.append(sub.link_flair_text)\n",
        "print(title)\n",
        "print(flair)"
      ],
      "execution_count": 47,
      "outputs": [
        {
          "output_type": "stream",
          "text": [
            "['Will donate thrice the number of upvotes (amount in Rs.) i get for this thread in next 24 hours', 'Fuck all Religion', 'Indian reply to NYtimes cartoon on Paris climate accord by Satish Acharya.', 'The essence of the Indian soap opera, distilled into one GIF.', 'Lamborghini blocked by buffaloes in India', 'As a Brazilian, I just want to say that you guys are in another level!', 'iPhone 12 pricing in India', 'This looks legit..', 'China get out. Boycott China. .. Sponsored by Vivo.', 'I’m a westerner who has worked hard learning your amazing food and culture. Today I presented my first thali. Jai Hindi', 'Boycott China.', \"Today's The Hindu\", 'German exchange Student at IIT Madras is being sent back home by the Indian immigration department because he joined the protest.', \"India had 90,000 new COVID cases in a SINGLE DAY. The media is talking about Rhea Chakraborty to distract you. Don't get sucked in.\", 'WhiteHatJr filed a 20 CRORE defamation case against me, Pradeep Poonia.', 'Tragedy of India', 'Irrfan Khan dies at 54', 'Hyderabad cop running for 2 km to help ambulance get through traffic', 'The wealth inequality in India is truly horrifying', 'If you are not moved by this picture, I wish I had your heart. [NP]', 'Online Education', 'Megathread: India-Pakistan border skirmish', '\"From midnight the entire country will go under a complete lockdown,\" says PM Modi.', \"Dear Hindus, we Indian Muslims rejected an Islamic state in 1947.. Now it's your turn to reject a Hindu Nazi state.. Speak up. NOW\", 'I bought the domain name pmcares.fund because it was available and made a satirical modi-themed chrome dinosaur game in it', 'Spend nearly 500 rs bucks to watch JOKER and in return all i got was 30 mins of advertiment before the movies,20 mins adver. in interval, giant subtitles, and stupid tobacco discalimer which stuck through 70% of the time in the screen,which made crucials scenes so distracting and out of focus.', 'Dear Indian society, you do not possess the moral high ground to criticize racism in any other country', 'Image Of Smiling Baby For Hyderabad Police Officers Who Rescued Him From The Kidnappers Thrill The Internet', 'This is India.', 'No Yoga and Yoga. Difference', 'My grandmother, aged 90, learning to use the laptop to read the e-newspaper. I think her willingness to accept and adapt to change is really appreciable.', 'Winner of a fancy dress competition at a school in Bangalore', 'Two NE student in Karnataka were not allowed to enter store to buy groceries, denying them to be Indian even after they showed their adhaar card . STOP RACISM. (Facebook : @kady.aomi)', '[OC] [meme] Solar eclipse', 'Ganesh Chaturthi & Muharram possessions crossing each other.', 'Help, ideas needed. HLL poisoned my village with mercury. There have been 250 cancer deaths in just 5 years in just my tiny village. Se[r]ious replies only.', 'An Indian woman, a Japanese woman, and a Syrian woman, all training to be doctors at Women’s Medical College of Philadelphia. - October 10, 1885.', '\"Elders Must Be Respected In Group\"', 'The lawyers who got India to legalise homosexuality will now push for same sex marriage', 'Bollywood actor Sushant Singh Rajput commits suicide', 'Spirit of Mumbai tired and beaten: Ashok Singh(45) a vegetable vendor who opened his shop for the first time in four months on Wednesday, burst into tears as he was forced to shut it because of flooding.', 'First day of Lockdown in our city/Andhra Pradesh', 'Boycott China protestors used map of USA to boycott China', 'Weighing us down?', 'story of the German student forced to leave after CAA protests', 'Some things never change', 'An empirical analysis of ten rupees chips packets Ft. Lays, Bingo, Haldiram.', 'The ironic reality of delivery workers, art by Moinazim Graphics', 'So Zomato is sending mass emails encouraging kids to order food in secret and hide it from their parents, thereby potentially risking everyone else in their family', 'Mumbai protests aerial view', 'If your school had soap,then you were very lucky', 'Incredible India.', 'Corona Donors', 'Our country and its priorities', 'Picture of culprit who brandished and fired gun at silently protesting student in Jamia while shouting, \"You want Azzadi? Ye lo Azaadi\".', \"Times Now reporter Prashant Kumar's tweet.\", 'How to not manage a pandemic. Source in the comments', 'Govt to ban 59 Chinese apps including TikTok as border tensions simmer in Ladakh', 'Her tongue was cut, spine broken. What about you?', '900 year old optical illusion. An elephant and a bull sharing a common head. Airavatesvara Temple, India.', 'My friend passed away and TOI made a mockery of her.', 'Indian Lo-Fi girl by u/animesh_sensei. Do show him some support for his digital artworks.', 'Entrance exams during a pandemic.', 'Migrant worker breaks down while being offered food. Source in comments.', 'This seemed better in my head', 'A farmer in Manipur grew a cabbage weighing 7 kilograms!!', 'Questions', 'Studied a lot for the last couple of years on these and I had to make this.', 'A black panther roaming in the jungles of Kabini, India. [Source in comments]', 'All four people accused of Hyderabad vet gangrape killed in encounter.', 'Dem truth bombs', 'For an industry that has to paint their actors black than find a talent who can easily fit the roles .. of course #BlackLifeMatters', 'After constantly being told off in Bombay because I didn\\'t have the right connections/contacts, I finally said \"Screw Bollywood.\" and made a short action video on my own because I don\\'t plan on giving up. Would love to know what you guys think about it!', \"When Nirbhaya's parents met with Mr.Modi and then there is Rahul Gandhi.\", 'Pro-gamer move by Women of Bangalore in a student led protest courtesy of - Section 46(4) of Code of Criminal Procedure, 1973', 'Corona cases connected to Nizamuddin dargah jamaat go up!', 'Superheroes in their capes. The ones who fought the crypto battle for 1.3 billion people. Because of them, bitcoin is now legal to trade in India.', 'Hello there, from Bangalore', \"Haven't seen these in a long long time\", 'If this male police officer has the audacity to grab kurta of Priyanka Gandhi , I shudder at the thought how he would be treating other women.', 'The Western ghats, India.', 'Police brutality is normalised here in India. THIS SHOULD STOP', 'The Buddha Park of Ravangla, in Sikkim India', \"This old man in Mumbai near McDonald's Bhendi Bazar, sells key chains, chains & other things to feed his family. He doesnt have customers. Purchase key chains & help him as he is very old and can't even stand properly. After Baba Ka Dhaba, help him so that he can earn some money.\", 'Hi r/India, Wanted to share a digital painting I did of a Tamil Woman', 'Photoshop Genius Turned a Family Into Krishna Family', 'Memes work a bit differently when in Delhi!', 'A kid dancing for/with the dogs.', 'Hasan Minhaj calls out Indian racism and obsession with fair skin | Patriot Act \"We Cannot Stay Silent About George Floyd\" (Timestamp: 5m29s)', 'Weird chap! Completely disconnected', 'Hindu cop standing guard as Muslim comrade offers namaz (photo shared by Srinagar Sector CRPF on Twitter)', 'Tigress Samruddhi with her four cubs at the Aurangabad zoo. The cubs, including two white, were born on Saturday morning.', 'In the Movie Signs, Aliens somehow find empty real estate in Bangalore to create Crop Circles.', \"Diya - Artwork i made that I couldn't finish before Diwali\", '1 vs 3000: I couldn\\'t afford a Telescope or a Tracker, so I spent 3 nights taking over 3000 Exposures of The Andromeda Galaxy using just an entry-level camera. Merged them together using a technique called \"Stacking\", and this is the result. Taken from Bhopal [Nikon D3100, 2909x1406] [OC]', 'Modi: Last Week Tonight with John Oliver (HBO)', '500TB pen drive from Mahabharata era unearthed by Archaeological Survey of India', 'You know what’s common between me and my patients in COVID ICU? We can’t breathe.', 'Soon on Netflix', 'Population density of India in 3-D.', 'Diversity in the Indian Army', 'My father has been taking the same bus to work and back for the last 5 years. Today, all the regular commuters gave a farewell to the bus conductor on his last working day.', 'When I was small, my parents used to tell me how it is their dream to make my grandparents fly in an airplane; after 27 years of patience and hardwork the moment finally came.', 'The biggest score in an Olympic hockey match is the 24-1 victory of India over the USA, played on August 11, 1932', 'Just an intresting thought', 'From Swiggy’s Office in Kochi.', \"I'm proud to say that our society didn't burn a single cracker. Happy Diwali to all!\", \"Today's annular solar eclipse from Dehradun [OC]\", 'A Manipuri girl at Vijay Nagar, Delhi was spat on by an middle aged man and shouted at “Corona” before fleeing on his white scooty.', 'Muslim neighbors came, lifted the bier & also chanted \"Ram Naam Satya hai\" in the funeral procession of a Hindu Man, Because of the #COVID fear, none of his relatives came to lift the bier.', \"Criticize everyone, but I won't turn on the comments section\", 'The struggle is real.', 'Some Good Feelings: Having a full stomach, clicked somewhere in AP', 'Our India!', 'Every Hindu right now to the BJP.', 'One Nation.', 'Met a player in Among us, Named Selmonbhoi dressed as a blackbuck xD', 'The Last Conversation', '#Profile4Peace #SayNoToWar (x-post from /r/pics)', 'Indian Wonder Woman- Cosplay by Deepica Mutyala', 'Good bois celebrating International Yoga day!', 'If you still throw garbage on street.', 'A Srinagar based Urdu newspaper — Roshni — giving mask for free with a copy. ‘Roshni,’ means ‘Light’.', 'This type of cringe on LinkedIn is really getting out of hand', 'Our May wedding was cancelled due to covid. We were finally able to have a traditional wedding yesterday (with only family present.)', 'This will stay with me as a reminder if Nov 8', 'Clearing the road for a very important “Pedestrian” Salute to the cop!!', 'My Mario Rangoli this year, Happy Diwali!', 'Team of lawyers who fought against the government in Guwahati High Court to lift the ban on internet.', 'Welcome to Indian Education where they make you write code with hand.', 'This subtle stencil art on a pillar in Delhi', 'News Anchors at 8 PM', \"Parle Products has decided not to advertise on news channels that broadcast toxic aggressive content. These channels are not the kinds that the company wants to put money into as it does not favour its target consumer. It's time more companies join the lead of Bajaj and Parle.\", \"Modi is included in Time magazine's 100 most influential people of 2020. But its not advertised and here is the reason why. (Here is the Editor's note)\", 'Celebrating holi amidst snowfall in Sangla, Himachal Pradesh.', \"A fruit seller in Delhi left his crates of mangoes unattended for a while and almost everyone who saw them raided those crates and robbed them clean in a matter of seconds. Just like that, India's Common Man™ can become a thief who steals from a poor man. [Link to the article below]\", 'Woke up dreaming of Pav Bhaji. 3 hours later, made my dreams come true...', 'Amazon with the insanely fast delivery!', 'Running a parallel IT Cell from my home against BJPs IT Cell. 40 servers on AWS. Monitoring 2 lakh bot accounts on Twitter. Find my AWS Bill in comments.', 'Hey Indians! I just finished drawing my new map by hand, and put a lot of effort into it. I really dont mean to offend anyone with the ‘disputed’ areas, but i hope you guys can still appreciate it. Greetings from the Netherlands :)', \"A mother wrote to Hindustan pencils about her left-handed daughter's needs and they responded\", 'After banning Chinese apps, India raises Hong Kong at UN | India News,The Indian Express', 'Desi Cybertruck', 'Uber drivers being safe', 'TOI removing the letter \"i\" from the entire front page for the sake of 1 advertisement', 'We need to talk about 1984 Anti-Sikh Genocide', 'I walked over 3,600 kilometres across India. 100% walking! It took me exactly 7 months. This happened already 5 years ago. Here are some of my photos from that long walk across India. Thank you very much for your attention! Please stay safe, healthy and positive in this difficult time!!!', \"Airtel's Privacy policy.\", 'The Trend is spreading to Dimapur, Nagaland.', 'I colorized a photo taken at Rashtrapati Bhavan on 15th August, 1947', 'Kerala Health Minister K. K. Shailaja on Vogue India cover', 'JioMeet - “Hey Zoom, can I copy your homework? I’ll be subtle”', '[OC]My first good shot of the Milky Way shot right from my rooftop in the middle of Pune [2318x3035][Nikon d5100]', \"- First lady of US is visiting - High security. Secret service all over. No sudden movements Sardar Kid - Sorry... When it's Bhangra time... It's Bhangra time...\", 'Recent Rape case involving MLA of Unnao', 'Assam Floods', 'Police Officer feeding an amputee Monkey. ( Originally posted in r/HumanBeingBros )', 'A reminder...', 'People queuing up in Kozhikode Medical College Blood Bank to donate blood for the victims of the plane crash at midnight despite the heavy rain.', 'TIL of Ghulam Dastagir, a Stationmaster who refused to leave his post during the Bhopal Gas Tragedy & saved thousands of lives by not letting any trains stop at the station. He spent the next 2 decades in & out of hospital due to long exposure to the gas before passing in 2003(X-posted from r/TIL)', 'Gay sex has been decriminalised in India. The Supreme Court struck down Section 377 of IPC. Love wins.', \"Lessons to learn by Indian women from Rhea Chakraborty's tragedy\", 'Food or medicine may not reach everywhere but LEDs can.', '\"In response to Modi\\'s unfortunate comment on the clothes identifying the \"group\" of those protesting against CAB, NRC and NPR, a protestor takes off his shirt to show his janeu. Now what do you have to say about that Prime Minister?\" - Mohan Guruswamy', 'Government proposes to remove Article 370, bifurcate Jammu & Kashmir state [Megathread]', 'Justice for Manisha Valmiki. Artwork by Me.', 'India did it before it was cool.', 'Beautiful Bangalore', 'Spotify after two songs', 'How India takes offence', 'Visited Golden Temple, Amritsar. Realised if places are kept this clean, the level of spirituality raises manifolds. This all looked so beautiful post Diwali 🙏 (OC)', 'Who created Arogya setu app?', \"'Baba ka Dhaba' is everywhere. Please buy from poor vendors especially elderly people and support them\", 'Spotted in Hyderabad', 'Tesla Semi Truck in India. [NP]', 'Only in India would this be proudly advertised', 'Kunal Kamra issues statement - No lawyers, No apology, No fine, No waste of space', \"Looks like somewhere in a first world country, doesn't it ? But it's my city, Kolkata, after the night of Diwali and Kali Puja. Hats-off to every citizen who refrained from bursting firecrackers, for putting others before themselves.\", 'Inspite of rising threat from Covid-19 some are still trying make a handful of dime... Wells Fargo* of Marathahalli, Bangalore is forcing employees to do regular work and even locking them up... Police is also not responding... Publicise it for freedom from such slave masters.', 'I’m that westerner chef & I’m back! Bought a dabba and made Basmati rice w/ Gunpowder Spice - Paneer Makhani - Masoor Dal. Thanks for the support', 'Too dignified to beg, too poor to buy', 'Yesterday the government said there is no soldier of Indian army missing & today the Chinese gov released 10 Indian army soldiers. If the Chinese had not released them we would have never known about them. Indian government literally disowned our own soldier. This is what is call Anti-National.', 'R.K. Laxman, The Times of India [1993]', 'Today I cleaned my room', 'Fair and Lowly', 'Left is the first ever Moon shot I took back in 2014. Right is a few days ago when I combined 1012 Exposures of the First Quarter Moon together using a technique called \"Stacking\" to improve details on the surface. Both images were taken with the exact same gear,in Bhopal[Nikon D3100,2400x1600][OC]', \"Everything is Banned: An Ajnabee's Reaction to the Porn Ban\", 'I finally decided to upload my first webcomic [OC]', 'I contacted hotstar support regarding dropping the latest LastWeekTonight episode...', 'WhiteHatJr Lady Director is harassing me with false harassment allegations and Legal threats.', \"India's first indigenous processor developed at IIT Bombay. I am a designer AMA!!\", 'Im the guy you hear in math problems AMA', 'Book stall owners using memes', 'IAF Sources: 12 Mirage 2000 jets took part in the operation that dropped 1000 Kg bombs on terror camps across LOC, completely destroying it', 'Extra Sensitive Right Wingers', 'I took these images in 2017 at The Gwalior Fort. Couldn\\'t get any details out back then due to the insane Light Pollution. Yesterday I got back to them & manually processed and merged 160 different exposures using a technique called \"Stacking\" and this is the result. [Nikon D3100, 4608x6144][OC]', 'Wanted to pay homage to my favourite actor. First irrfan Khan and now Rishi kapoor. Such a tragic week for Indian cinema. Rest in peace', 'Wholesome', 'Indian Journalism', 'Stolen', \"Republic TV's invitation for Arnab Goswami's show tonight, with the response.\", 'A deserted East Express Highway in Mumbai', 'Caste-blind Indians.', 'CM Ashok Gehlot of Rajasthan on Love Jihad', 'Go Save the world!', '1 Million dislikes!', 'This is how Suniel Shetty saved the dignity of 128 Nepalese women 24 years ago, and stayed silent on his heroic act', 'Now Read this...', 'Happy Diwali 🎆', 'My mood since past few days.', 'Bought a book from Daryaganj for a 70 bucks. Opened it up later to receive this little surprise!!!', 'Kunal Kamra and Anurag Kashyap turn up at Republic office with a \"special gift\" for Arnab Goswami', 'Unpopular Opinion: Divorce rate in India is less because most women are not financially independent.', 'Better Safe Than Sorry', \"Indian Women’s Hockey team returns to India after winning the FIH Women's Series Finals Hiroshima 2019 after defeating host Japan 3-1 in the Final on June 23\", 'Durga Puja artwork', 'No Community Spread', 'I repeat.', 'Rural India is wild. Literally.', 'Bernie Sanders: Over 200 million Muslims call India home. Widespread anti-Muslim mob violence has killed at least 27 and injured many more. Trump responds by saying, \"That\\'s up to India.\" This is a failure of leadership on human rights.', 'Moon in HDR, Stack of 200 Photos [OC] 2000x2500, Shot using Canon 200D with 55-250mm Kit lens from Chennai', \"Helped distribute some food yesterday and the smile of the kids meant everything. Please don't forget to donate food these days if you can as many still haven't received any benefits.\", '10 Rs discount if you know English', 'Full businessbaazi 😎', 'Irrfan Khan Mural', \"India now ranks 94th among 107 countries in terms of hunger, and continues to be in the 'severe' hunger category according to the Global Hunger Index 2020. According to the study, 14% of India's population is undernourished.\", 'Our cities are starting to look like european cities. Prayagraj was looking like Venice today after some heavy rain. The name change indeed worked.', 'Modi govt wanted to ban PUBG, but realised youth will then ask for jobs: Congress', 'I saw the Chandrayaan 2 launch in person', 'Excerpt from movie Swadesh', 'Priorities', 'Artist Badaal Nanjudaswamy recreates an astronaut walking on moon full or craters in Bengaluru', 'In Mumbai', 'Up', \"I've made by hand a map showcasing the languages and landscapes of India and its surroundings, I hope you will like it !\", 'This Amazon review for top selling face mask', 'Journalists in Jail [Non OC] [Source @aarifshaah]', 'I painted my uncle yesterday. I\\'m on my trip here in Punjab and have been trying to create this for years now. Oil in sketchbook, \"Darshan\"', 'A young poor kid offering a part of her meager meal to an elderly dog. I took this photo in one of the biggest temples in West Bengal. In the entire temple, this scene was the one of true devotion.', 'Uncle seems to have been quite cool', 'India Today statement on Hathras phone tapping incident', \"I'm the westerner who did the Thali. Here is my version of Panipuri with roasted & puffed chana.\", 'Air India thanks the people of Malappuram', 'West desi chef here again. You asked for sweets so I made: Rabri- Jalebi and Gulab Jamun.', 'River crossing problem', \"Now BYJUS got all the 5 videos from my youtube channel ALSO removed. If this isn't ONLINE BULLYING then what is?\", 'Ministry of Information & Technology bans PUBG and 118 other mobile applications', 'Mahi Patir Miri. My Grand-Uncle. One of the first 2 Assamese to be selected for the British-Indian Forest Service. Dedicated his life to preserving a small wildlife sanctuary in the 1930s. Today that small sanctuary is the Kaziranga National Park, Assam.', 'BREAKING : Mumbai Police investigating Republic TV among 3 other channels for TRP manipulation. 2 arrested. Ad revenue from this manipulation duration is considered fraud.', 'The picture pretty much sums up the ideology of BJP right now', 'Why are you running, you asked for it ?', '[P] what the fuck are we doing? the government have banned Porn, Reddit, Pub-G, even live leak & many more website! we should immediately take action now', 'Captured India with my phone.', 'Coffeezilla covers the WhiteHat Junior Situation .', 'Hasan Minhaj at howdy modi', 'Somewhere in Assam', 'RIP Grandpa, what an absolute legend you were', \"Diwali was a while ago.. here's a pic of my apartment complex add decked up but without crackers!\", 'I am the creator of pmcares.fund website. I want to thank r/india for making it viral', 'Inside Mysore Palace. [1080*1168] [OC] [Redmi Y2]', 'Credit: @brownpaperbagcomics on Instagram', \"[OC] Happy Onam everyone! Here's the prepared Onasadhya today\", 'This is why the Führer wins in India!', 'My favorite lockdown pic so far!', 'Baba Pathan, from Ahmednagar, Maharashtra, helped conduct the wedding ceremony of two daughters of his widow muhboli-behen (sworn sister) and paid for all the expenses himself', \"Amul's cartoon remembering Chadwick Boseman\", 'Condition of an exam centre for NEET-JEE, and again it’s raining heavily!', 'Moments after a plane landed, 10 min before gates would be opened', \"From the Horse's mouth\", 'Great idea sirji!!', 'Literal English meanings of Indian State Names', 'So relevant again!', 'Heartbreaking photograph. Indian Army officer consoling father of Lance Naik Nazir Ahmad of Kulgam in South Kashmir who sacrificed his life for the country while fighting terrorists recently. India salutes these sons of the soil in Kashmir who always put nation first. Prayers', 'A role model for countless Indian women, Kalpana was an ordinary girl from Karnal whose lofty dreams and indomitable courage took her to space.', \"Someone added Laser to Gandhi's eye.\", 'How to get away with murder, police edition ~ Kruttika Susarla', 'Someone made a stormtrooper Ganesha.', 'Just another street in Hyderabad', 'Contribution of Taxes', 'Govinda Govinda', 'Greetings from Saudi Arabia. During this lock down I have decided to make 150 dishes from around the world. Behold: Plain Naan Bread', \"Don't call me to your wedding if your bridesmaids aren't dressed like this.\", 'Mom found this good boye outside a store in 40 degrees heat.', 'Some kill with guns other with disinformation', 'Mumbai Girl Living On Footpath Scores 40 % in SSC 2020', 'Brace yourselves. We are less than 6 hours away from hitting superpower status.', \"Ladakhi mom carrying her child in basket because him walking will slow her down [Happy Mother's Day][OC][4000x3200]\", 'No Data Available', \"My teacher told me to draw something on 'Our duty towards the Nation during pandemic ' and then told me its inappropriate.\", \"PM Modi's Mann Ki Baat on YouTube gets more dislikes again for September 2020 upload\", 'Pakistani here, hear me out', 'Asthami Special', 'Indian men line-up for a free meal on the occasion of Id-Ul-Fitr near Jama Mazjid, New Delhi. Most of these men are rickshaw-pullers, daily-wage laborers and homeless men who rarely get two square meals a day', 'Three businesses, one frame.', 'Anti CAA Protest in Kochi Today', 'Omni Van turned into off-road vehicle, Hyderabad, India', 'Even the air purifier is saying to duck off, pollution lvls over 800 here in Delhi', 'ToI delivers for a change', 'Me during the Durga Pujas. Might have came off as a little rude. But when nobody is wearing a mask or practicing Social Distancing, this attitude was a necessary evil.', \"Rahul Gandhi arrested by UP police on his way to Hathras to meet gang-rape victim's family\", 'New restaurant opening near my house.', 'New Delhi, Google Maps', \"Harsh reality is we're it\", 'Mumbai man cleans 5 million kgs of trash in 96 weeks. [X-post r/pics].', 'Here to share my ballpoint pen drawing with my fellow Indians.', 'A dog wearing sunglasses hitchhiking atop a rickshaw in Mumbai, India', \"This one hits hard. This was posted on r/samharris, couldn't crosspost because i don't know, only r/india wasn't available for crosspost.\", 'Kedarnath 🙏🏼', 'Tesla Cyber Tuktuk', 'Love for Canada', 'Indians Right Now.', 'Jatayupara, Jatayu Earth Center, Kollam, Kerala [x-post r/pics]', 'Elderly auto-rickshaw driver assaulted for not chanting ‘Jai Shree Ram’ and ‘Modi zindabad’ in Rajasthan! After beating him up they said we will rest only after sending you to Pakistan!', 'Howdy Modi !', 'Courage.', 'As soon as Modi noticed the camera gazing at him, he started praying. [ABP News]', 'From @PonnappaCartoon', 'something something the education system sucks...', 'Someone wrapped him in a plastic cover and left to die on the road. We took him home. Finger for scale.', 'People caught on camera exchanging their blackmoney after Masterstroke step of ‘Demonetisation’', 'Protest placard in Azad Maidan Mumbai : “I am from Gujarat. My documents burned in 2002”', 'Umar Khalid shares a JNU Incident related to Manmohan Singh.', 'Locked up home', 'PSA: If you can, get out of India by December 31, 2019', 'Boycott Kerala, by Pencilashan', 'Raamji ki booti', 'That moment when legends remember this', 'Swapna Burman, 6 toes in both legs, no money for special shoes. Father a rickshaw puller, mother working in a tea garden, running for her country in the final event of the Heptathlon with a bandaged jaw. And winning it for India This country certainly has no shortage of heroines', 'Found this 104 year old coin just sitting in my drawer', 'Few days back, they would not have thought of all this sudden love coming their way. More details in the comment. #BabaKaDhaba #DelhiPeople', 'State of the Republic', 'First time preparing everything from scratch ☺️, wife feels proud !!', 'Pro gamer move - source unknown', 'Horrific videos coming out of JNU. Another university attacked.', 'TIL the only witness of the Salman Khan hit and run case died a more cruel death than the footpath victim', 'A Suitable Propaganda.', 'Indian news anchor gearing up for landing', \"I lost a night's sleep driving and camping out here but when the sun rose, this view made it all worth it. Nandi Hills in Karnataka. [NP]\", 'Grocery shopping list of an Indian wife', 'Indian music industry has become shit.', \"How to get more volunteers for 'The ugly Indians' cleanup campaign? Below was result of 3 hour and 15 volunteers\", \"Since I'm leaving the country for education, I thought I'll sell my guitar for a good price on Olx. Got a call from a guy claiming that he's from an orphanage. Had my doubts but still sold it at a much cheaper price to him than what others were asking. Turned out to be really wholesome. Made me glad\", 'Patanjali umbrella', 'PV Sindhu becomes the first Indian to be Badminton World Champion!', 'Hello I’m Nehru!', '[OC] Trying my hand in colorizing some of the famous B&W photos. Madhubala by James Burke for Life Magazine 1951.', '60 thousand fans turned up today to support the Indian football team against Bangladesh.', 'While I am a Hindu, .....', 'Hindustan Times pays tribute to 20 Indian Army bravehearts killed in a face-off with China along the Line of Actual Control in eastern Ladakh.', 'Too far, too close. Artist is MANJULToons.', 'How to destroy a country in 5 years.', 'The Propaganda Dairy', \"Number of times Modi mentioned the words 'Coronavirus' or 'Covid 19' vs Months. As the cases increased, he slid away from being responsible. Source:- His twitter timeline.\", 'Deccan Herald 23/12/2019', 'Mumbai Police Meri Jaan', 'Jalebis to start Sunday and Dussehra. Happy Dussehra everyone.', 'Andhra Pradesh should redesign this map/logo', 'Re-Creation Of Humanity (artist : Hasif khan)', 'Who do you call when the police murders?', 'The Grey Indian Hornbill spotted near my house', 'Comet Neowise captured from Bhopal. Had to stack 115 images together to get any details on the comet due to clouds [Nikon D3100, 3800x3072] [OC]', 'Most powerful image of the day (@ranaayyub)', '[The New York Times] India’s ruling Hindu nationalists are scapegoating the Hindi film industry to distract the country from Narendra Modi’s failure to control the pandemic.', \"Am I the only one who's tired of doing chores?\", 'A little positivity in this trying time.', 'Woke up to this today. Made my day!', 'Tumbbad fan poster by me', 'Got the sreen guard for 6.5 inches mobile in 5 feet box (8 inches scale for reference)', 'Back in the day, almost every household in India had one of these!', '#trashtag India. Cleaning up the local Ganges riverbank in our small town of Uttarpara, West Bengal.', 'Actual footage of people trying to prebook Avengers: Endgame on BookMyShow since yesterday', 'Arnab Goswami & John Oliver', 'Mixing religion with politics is suicidal', 'Mom came up with this impressive idea to celebrate my bday amidst lockdown (choco pie & chena khir)', 'Pizza delivery boy tests positive, 72 families in South Delhi ordered to quarantine themselves', 'Her crime was allegedly “conspiring to block a road with a protest” that according to the police lead to the Delhi Riot.', 'Hotstar nukes PM Modi episode of last week tonight with john oliver.', \"AAP's response to BJP's Prakash Javdekar.\", 'My aunt wanted to enroll her kid into whitehatjr and I convinced her against it', 'Today my office gave us India flags which are Eco friendly seeded products. Each of these flags contains a live seed which can be planted. Once you place the seeded item under a thin layer of soil, it will bloom within 4 to 6 weeks', 'Delhi police breaking the wind shield of an auto in Seelampur, Delhi [Source: BBC Hindi]', 'One Inch: The difference between WC final and Billion heartbreaks', 'Legal notice to Aaj Tak for ‘insensitive’ coverage of Sushant Singh’s death', 'I drew this to pay Respect to all Indian Soldiers', 'I visited Kolkata for Durga Pooja last year. The ceiling decor in the Pandals is out of the world.', 'The forced funeral of the Hathras rape victim', 'Word Play -Khushwant Singh, Joke Book', 'Stop violence against doctors. Artwork by me.', 'I am afraid of the DLCs.', 'The only reason why i love the new currency notes is the monuments that have been depicted. Hampi, Feb 2020', 'Indian farmer builds lean mean TREE CLIMBING machine!', 'A silver Rupee coin from 1862!', 'Me at Kerala', 'Netflix India case study.[OC]', 'A misty morning in Idukki,Kerala.', 'Bihar - go vote! Unfortunately, NOTA doesn’t have any impact on the outcome of the election so don’t waste your vote. Stay safe and vote wisely', 'First Cut by Manjul for Firstpost', 'There is NO ROOM for abuse.Period. Digital Painting.', '[OC] Two of the Greatest Directors together - Akira Kurosawa and Satyajit Ray (Venice Film Festival) - Colorized by Me', 'A public message from a resident doctor of Safderjung hospital in Delhi. #COVID19', 'Mumbai Police enter Republic TV Editor Arnab Goswami’s residence and attempt to detain him. Arnab Goswami says he has been physically assaulted by Mumbai Police', 'GDP is increasing.', 'Matar Kulcha with Raita', \"The hero we need but don't deserve. Bharat Bhushan Gupta Aadhar breach whistleblower.\", 'Wanted to share my recent painting with you guys. \"The Golden temple\", oil on canvas, 30\"x40\"', 'This is insane advertisement.', 'TIL in 2007, Sudhir Chaudhary, as CEO of a News Channel, oversaw a sting implicating a teacher for pushing students into prostitution; She was terminated and got beaten by mob before being jailed; She was later found not guilty; Student shown in sting was found to be a Journalist; Channel was banned', 'Social distancing in vegetable market in Vijayawada, Andhra', 'Antivirus Tiffin Center !', 'The Monk who sold his Gillette..', 'An aerial view of Gangaikonda Cholapuram Temple', 'Into the Storm. (mumbai edition)', 'Indian women admiring themselves with a mirror for the last 2000+ years', 'I thought there was a lack of India based satire comics, so I made my own! - Brown Paper Bag. Let me know what you guys think about a few of my first comics', 'When you take your firangi friends to an Indian food joint', \"The inside story of Zee News becoming a Covid-19 hotspot. Sudhir Chaudhary told employees he didn't want to hear complaints about fever and cough. He also demanded 100 percent attendance in office\", 'As a South Indian, I have something to confess', 'Amateur astro-photographer here! I clicked this in Chitkul, Himachal Pradesh last year [4064x2706]', '5 star hotels in India. The employees perspective', 'India wants innovation, but arrests IIT grad who develops faster Tatkal ticket-booking app', 'Found in Indore', 'at the stroke of the midnight hour, when the world sleeps... last rites are performed', 'Line of No Control - Sandeep Adhwaryu', 'YouTubers are picking up the WhiteHate story.', 'WhiteHatJunior is biggest scam of 2020(Rant)', 'Find someone who looks at you the way Putin looks at Modi', \"This is Burger King's Chicken Tandoori Grill burger. What they advertise is above and what they delivered to me today is below.\", 'From Deccan Herald - 12.12.19', 'Balloons', 'COVID precautions for a dine-in restuarant at Gandhi Bazar in Bangalore', 'An ode to Gandhi ( from twitter )', 'Every home today morning', 'Pretty much the current state of India', 'Need all the help possible.', 'Found at a hospital in India.', '[OC] This Contest From Maggi.', 'Bengaluru City Police', 'Just a photo of HP Petrol Pump I took recently. The line drawing is added in PS later. [OC] 3922x4902', 'This is too funny', 'The Editors Guild of India has issued a statement', 'Modern day mathematics for modern problems...Brilliant stuff!', 'An in depth news coverage of the monsoons', '#satisfying', 'A drawing I made of the music composer Ilaiyaraja! Pencil on paper.', 'YES Bank', 'Pic From Rural Kerala', 'ALL my videos from LBRY also got removed. So WhiteHatJr also controls DECENTRALISED video hosting platfroms.', 'The Times Of Modi!', 'Science students can relate', 'I am a Muslim and I wish all my Hindu brothers and sisters a happy Dusshera!', 'Happy Teachers Day', 'I did not give NEET today', \"It's confirmed but also not confirmed.\", 'The Original 10-Year Challenge', 'Wait for straw, sipper gets longer for Stan Swamy, who has Parkinson’s disease and is in Jail', 'When Google gives up', 'A Big Lake in Chennai - 2018 vs. 2019', 'Something I made given the time _/\\\\_', 'Good boi in traffic', 'First Mango \\U0001f96d in our home', 'At the Pune protest at Pune University', 'Chill!', 'This girl with a \"Donate a book to the needy\" placard', \"Congratulations to the Indian Women's Rugby Team who have scripted history by registering their First-Ever International 15s Victory by beating Singapore in the Asia Rugby Women's Championship Division 1\", \"The Aarogya Setu app on my mom's phone was recording video continuously for 7.5 hours\", '1937 advertisement for India', \"15-year-old asks PM Modi to order all religious trusts to donate 80% of 'God's wealth' to fight Covid-19.\", '12-year old girl dies after walking for three days to go home!', 'Hi r/India! I wanted to share this piece I finished this morning of my granduncle in Punjab', 'Cows in Therapy', \"Today's BombayTimes is almost 90% filled with ads.\", 'DeMonetisation Disaster', 'Not a glitch in the photo, Jama Masjid, Ahmedabad', 'Saket Gokhale: I’m applying for permission to @DelhiPolice this week for taking out a rally chanting “desh ke gaddaron ko, goli maaro saalon ko”.', '@ANI: Do you know why China was able to take away a part of our land? It is because China knows that the person who is sitting at the top position, just cares about his image: Congress leader Rahul Gandhi in Patiala, Punjab', 'Heal.', 'This wonderful \"Mario\" themed travel safety video by Ixigo.', 'Dear /r/india, I need your help. An 18-year-old was brutally murdered.', 'Every single time!', \"I've never felt so helpless, please help our family.\", 'Mumbai Police files FIR against Arnab Goswami, accuses him of spreading hatred', 'Today is 26/11', 'Deccan Herald - Speak Out - December 31st, 2019', '[OC] I painted a mural.', 'Modi: From Nov 8 to abolish 500 and 1000 Rupee notes.', 'Gurgaon floods. This was the view today around the most expensive real estate in the country.', 'A man confronts the cops harassing a couple in a park. Much respect! We need more folks like him.', 'Powai, Mumbai - The great divide', 'A golden evening above the clouds, Snowline, India. Credit: u/theomulator', 'Pick your poison wisely!', 'A watercolour painting of the Jama Masjid I did today from an old photo of mine, I hope you like it and wish you all courage and patience for the days to come !', 'Something wholesome I came across this morning in Bangalore', 'Google nees to denounce unauthorised use of its name in WhitehatJr. Ads', 'Committed to Press Freedom | Deccan Herald Speak Out', 'Pune. My city. Standing strong. How about you?', '#OnThisDay in 1975, history was made when India’s first satellite - Aryabhata, was launched from Kapustin Yar in Russia.', 'Catch it before it’s too late.', 'Vegetable market in Sikkim', '[OC] Mango blossoms in September!', 'India Gate ( Arc-de-Triomphe\" like archway in the middle of a crossroad)- New Delhi It took 3 attempts to realise this picture - Nikon D700 | 800 x 501', 'Different stages of hair loss in perfect order. Mumbai local train memories.', 'Every single day this spot is absolutely cleaned by the garbage collection guys only to be again dumped with garbage by the end of the night. When will we learn some civic sense to not throw garbage right in the middle.', 'India supplied over two thirds of AIDS medication globally over the last two decades, bringing the treatment cost down from $414 per person per year to $74 per person per year which also supported the number of infected people getting treatment increasing over five fold during the last decade.', 'Domestic Dog saves the lives of 30 People in UP', 'Dera Sacha Sauda chief Gurmeet Ram Rahim found guilty of rape, taken into judicial custody', 'The Telegraph, 8 October 2020.', \"Today's Telegraph. Vive la révolution.\", 'Love Jihad, by @sanitarypanels', 'Sunil Chhetri (Charcoal art) made in our uni', 'Rivalry at its classiest', \"My wife was angry with me. Then I made this. Now she isn't angry. We happily lived ever after. [Dahi Puri, Dilli style]\", \"Tired Of Racism, Northeastern Students Appeal To The Country To Stop Calling Them 'Coronavirus'\", '57 billionaires control 70% of India’s wealth … India is second most unequal economy after Russia', 'IISC Banglore', 'Just realised that MDH uncle’s photo only appears on the vegetarian items', 'Tis the season, people :D', 'Countries with smaller population than Uttar Pradesh.', 'Bihar results!', '[OC] Although mumbai rains are disruptive, they do bring beautiful scenery and holidays.', 'Even when the Avengers are in trouble & no matter where they are, our Sikh bros will be ready to serve the Langar.', 'Dads, Indian Dads', 'Thank you r/india', \"Hi folks here's a map I made of India's railway network - data from OSM.\", 'The Great Wall of India for Trump, by Pencilashan.', 'Indian albino family', 'Me and my dad at Taj Mahal. 25 years apart!', 'Good evening y’all! Mughal (Akbar) silver rupee dated 1589AD from my coin collection.', 'If irony needed a profile picture.', '[BREAKING] Suit has been filed before Delhi High Court by four Bollywood industry Assns & 34 leading Bollywood producers AGAINST, Republic TV, Arnab Goswami, Pradeep Bhandari, Times Now, Rahul Shivshankar, Navika Kumar.', 'Hyderabad #CAAProtests', \"When you're promoting a patriotic movie but someone asks to show your passport\", 'Happy Ganesh Chaturthi!', 'To Become Mere Pawn...', 'Social Distancing - Kerala way', \"Today's Hyderabad protest\", 'Brave students Protesting against NRC and CAB in Delhi', '\"I bless the rains down in Africa\"', \"I'm drawing stories of migrant laborers from the news\", 'Digital potrait of Amrish Puri in Temple of Doom by Rohit Singh', 'IAS Officer Srijana Gummalla returned to work just 22 days after giving birth to her son.', 'Captured this just before sunrise near Bhimavaram on my way to Vizag by train.', \"John Oliver rips apart Arnab Goswami on today's episode of Last Week Tonight. Must watch! Should be on YouTube soon.\", 'Indian Ascetic during Kumbh Mela.', 'Irony died thousand deaths', 'Getting in on the Selfie craze [P]', 'Ram Gopal Varma announces film titled ‘Arnab -The News Prostitute’; calls out the journalist for his TV debates on Bollywood', 'Good evening India. You might remember I posted her half finished a while a go? Here she is! My finished Lakshmi Diamond Painting.', 'Constitution will now be called Comedy', '[OC] Thought of Colorizing the famous pic of Shaheed Bhagat Singh for Independence Day. Wish you all a Happy Independence Day.', 'Thanks Delhi - For giving India some hope', 'A coconut vendor celebrating Deepavali in Bengaluru !!', 'No comics today. [OC]', 'Indian parent', 'Mangroves in Mumbai. Poco F1 (3024x4032)', 'Eid Mubarak !!', '20 lakh crore', 'A poster at Shaheen Bagh', 'Lone Aadhaar dissenter wins a point', 'A member of indian army services corps at Dunkirk, 1940.', 'Minus 23.9 per cent', '\"Doland, Don\\'t do Press Conference...\"', '/r/India is one of the biggest reasons for where Brown Paperbag is at now. Here are some of my latest comics directly hosted on imgur for all those without a Facebook or Instagram account', 'Maslow’s hierarchy of needs', '#Justice for Asifa # Beti Bachao', 'When you lose your ball ..you improvise..this happens only in India?!?!', 'There is good news and bad news', 'Please give this guy his ₹2', 'Print media finally standing up against social media.', 'Whats with this country and its standards?', 'Act of kindness. The Hindu photographer Vijay Bate clicked this image in Juhu, Mumbai, where a resident was seen feeding a peacock residing in the area. Source : The Hindu', 'Karan Bajaj & Whitehat Jr. tried to silence Pradeep Poonia by 20 Crore Lawsuit, but it backfired as it resulted in probably hundreds of thousands of Google Searches on Pradeep Poonia & the said scam he was exposing. [Data: Google Trends]', 'As people sink into poverty, India’s resources cater to whims of the most expensive PM in history', 'Konark Wheel sculpted by Sudarsan Pattnaik at International Sand Art Exhibition', 'Anyone can win IPL but...', 'Sprinter Dutee Chand says she’s in same-sex relationship with soulmate. Dutee Chand, the 100 m record holder and winner of two silver medals at the 2018 Asian Games, is the first Indian sports star to acknowledge being in a same-sex relationship.', 'Khajuraho | OnePlus 6 | 3072x4096 | Madhya Pradesh', 'Nirbhaya case: All 4 death row convicts have been hanged at Tihar jail', 'Divide and Rule, by Sharique', 'Finishing his homework.', 'Creativity Level - Blue', 'How Google Autocomplete Describes India [OC] Re-upload with better readability', 'What you allow, you encourage.', 'Assam Floods', \"Dutee Chand won the Gold Medal in Women's 100m sprint at the 30th Summer University Games in Naples (Italy) on Tuesday. This is the first time an Indian has won a 100m Gold at this global event! No Indian had qualified for the 100m final in the history of the University Games before this.\", 'The new 20 rupee note! Clear inspiration from Mango Bite.', 'The masked goons who attacked our democracy.', 'Tomorrow is a new day.', 'One of the greatest writer of India: Munshi Premchand and his wife Shivrani Devi', 'Cow playing football. Watch till end.', \"This is Shakuntala Devi aka the human calculator. We all might have heard about her but a lesser known fact is that she was also the author of first Indian book on homosexuality titled ' The World of Homosexuals.'\", 'Spotted In Bombay Protests Today', 'Get Well soon - Cartoonist Alok; 11 May 2020', 'It took a night but it was worth it. Made my own Dal Bhukara and Garlic Naan at home.', 'Harsha Bhogle.', 'Burj Khalifa marks India’s 68th Republic Day with a spectacular LED illumination of our National flag', 'The only biscuits that could turn your day around. This shit slapped.', 'Me and the boys going to CP.', 'The image speaks for itself.', 'All Indians are equal, but some are greater than others - by sanitarypanels', \"Zebra crossing painted but there's no way to cross in Banjara hills, Hyderabad.\", 'India is \"Stockholm Syndrome\" on steroids', 'We had hail storm in sikkim today.', 'The Continuing Practice of Untouchability in India.', 'Kerala tourism advertisement at Times square, New york', 'Simply Blood is an NGO which provides unlimited meals at Rs 10 in Delhi, and serves everyone, including food delivery executives.', 'Protesters have gathered outside Gateway if India since morning to condemn the violence at JNU. We want freedom from this fascist government', 'Thug life autowala. From r/Hyderabad', 'Bengaluru traffic cop stops President’s convoy to let ambulance pass; wins hearts and reward too', 'Make in India by Satish Acharya', 'Did a Cyberpunk edit on a Paharganj photo I found online.', 'Protester at Sydney Cricket Ground during the Australia-India ODI', 'Manually Colorized and Edited Image of Tagore', '5-year jail term, Rs 50 lakh fine for ads promoting skin fairness, govt proposes', \"Eternal sketch for well known novelist Mr. R. K. Narayan's memorable 'Malgudi Days' by legendary cartoonist Mr. R. K. Laxman.\", 'My relatives visited me. And I live with my girlfriend unbeknownst to them. And they lost their shit. And it was a thing of beauty. (Re-posting because violated some rules earlier)', 'PMCares only about money', 'We can save you from Corona, But not from Stupidity!', \"[P] Today's Mann Ki Baat livestream on the official Narendra Modi Youtube channel has more dislikes than likes.\", 'Indian Parents be like', 'Arnab GuSwami on China', 'Current State of Tamilnadu...', 'WhiteHatJr crossed all the limits. I give up.', 'See me NOW.', 'Sunil Chhetri has equalled Lionel Messi with 64 International Goals.', 'Abuse us, criticise us but please come watch Indian team play: Sunil Chhetri appeals to football fans', 'Madhya Pradesh: Aslam Baba who treated coronavirus by kissing peoples’ hand, dies; 24 contacts test positive', 'These boys in blue have had a fantastic few years too!', 'Meanwhile in Gurugram', 'Anand Mahindra - \"It doesn\\'t matter what your politics are. It doesn\\'t matter what your ideology is. It doesn\\'t matter what your faith is. If you\\'re an Indian, you cannot tolerate armed, lawless goons. Those who invaded JNU tonight must be traced & hunted down swiftly & given no quarter...\"', '[OC] Lightning in Bangalore today', 'Native Indian dog breeds are among the most adaptive in the world. Sadly, due to neglect and preference of people for foreign exotic breeds like Huskies (who suffer in the tropical climate of India), many Indian dog breeds are at the brink of extinction.', 'You Will Not Decide What One Wants To Watch, You Are A Certification Board Not Censor Board: Bombay HC to CBFC', 'I was so bored during lockdown I built an Indian flag outside my house. We are all going to bounce back stronger. Jai ho', 'Error 404: Trust not found!', 'Anurag Kashyap, Anubhav Sinha, Zoya Akhtar, Kunal Kamra, Diya Mirza, Tapsee Pannu, Gauhar Khan, Rahul Bose protesting against the government.', 'Should we return?', 'For this republic day, I doodled a fully procedurally generated Indian Flag. (Source code in comments)', 'When you order North Indian food from Swiggy', 'Ravan Dahan ft. Captain America', 'Which is that strange weapon which can transform India?', \"I discovered I have 'azoospermia' today. Worst day of my life.\", 'We need more', \"Beef Ban, Demonitsation, Swacch Bharat and Digital India - Modiji's all the achievements in one frame.\", 'It’s that time of the year everyone !', \"Indians In Europe Call For BJP MP Tejasvi Surya's Removal As Speaker At Hamburg Startup Conference\", '93% Muslims view Hindus favourably, but only 65% Hindus view Muslims positively: Pew survey', 'Kafeel Khan takes battle with Yogi to UN body Kafeel Khan has written a letter to UNHRC informing them about “widespread violations of international human right standards in India and misuse of draconian laws like NSA and UAPA to suppress dissent', \"Prime Minister's twitter personal account got hacked in the midnight.\", \"Hi r/India, I've been doing some messy, painterly wallpapers of countries' flags, here's yours[1920x1080]\", 'WhiteHat Jr and the curious case of disappearing dissent', 'Rahul is holding talks', \"Sonu Sood 'home delivery' service!\", 'Homemade mango kulfi pops', \"Hathras horror. Finally priyanka vadra could meet with victim's family.\", 'Every single day this spot is absolutely cleaned by the garbage collection guys only to be again dumped with garbage by the end of the night. When will we learn some civic sense to not throw garbage right in the middle of the road especially when there are people living around.', 'Former President APJ Abdul Kalam passes away', \"It's a humble request to you all, please don't share this image. You can go to jail.\", 'Deepika Padukone reaches JNU to support protesting students.', 'Mentality of looting public property summed up in one picture', 'We live in an unjust world!', 'A neta is born:', 'Anti NRC & CAA rally happening in Bengaluru now. Most roads jammed. Heavy police deployment across the city. Organisers say over one lakh people have asssmbled. Say it is a peace meet.', 'Is this true?', 'Mr Arnab!', 'A tree in Rajasthan covered with locusts', 'Questioning the governance!', 'The missing autistic kid case, desperately need your help please take a minute out of your busy life and help.', 'Patriotism vs Not Patriotism', \"Help! I think my mom is getting scammed and I don't know how to stop it!\", \"Rape of 7-year-old in Bengaluru: Lack of medical report and top lawyer's defense gets accused off the hook. The defence first suggested that the child – the seven-year-old – was sexually active. When this line was objected to, the defence maintained that she had a vivid imagination. [Sept. '19]\", 'Someone stole a freaking bus stop near my place, Pune', 'Byjus and WhiteHatJr are harassing me. Please help', 'To all the Biryani lovers out there', 'Right To Privacy is Fundamental Right', 'Followed a new recipe and made butter chicken plus garlic naan from scratch.', 'Endangered crocodile species in Chennai dies due to loud music from a Sheraton hotel event', 'Because you guys loved the first artwork, here is a second one. Lodhi Art District, Delhi', 'Journey...', \"Basically how I'm enjoying monsoon!\", 'Sandstorm approaching in Jaipur', 'Indian Fairness cream ad starterpac [OC]', 'Madhya Pradesh’s Girl who Cycles 24-km to School Daily, Scores 98.5% in 10th Board Exams', 'Chief Justice of India , Justice SA Bobde caught without mask, Nagpur.', 'You all are being played and Sonu Sood will join BJP in the near future.', 'Life Pro Tip India - If you\\'re getting spammed with \"Personal Loan\" calls, don\\'t hang up or pick and abruptly cut the call. Pick the call, say you want the loan badly and tell them you\\'re jobless and don\\'t have any collateral. They\\'re mark you as Junk on their CRM and steer clear of you.', 'Made Langar Wali Dal and Missi Roti for Sunday Lunch.', '[OC] Managed to click this magnificent peacock in Kovalam, Kerala - 3024x4032 - iPhone', 'The top secret only few know. Patel Statue is a Transformer.', 'How can educated Indians be so uneducated?', 'This genuinely makes me sad. Imagine a world without Wikipedia. Please help if you can.', \"Shantashree from Republic quits and exposes the channel's BTS work in pursuit of #Justice4SSR.\", 'Empires of India [GIF]', \"When 107-year old 'Mother of Trees' Saalumarada Thimmakka broke protocol & blessed President Ram Nath Kovind while receiving Padma Shri award.She has planted 8000 trees including 400 banyan trees across Karnataka.\", 'Bengaluru police at it with the GOT references! [NP]', \"Meet our nation's future Olympian in shooting. She just blew away Commonwealth Games Record and won Gold by a huge margin of 6.9 points, defeating another shooting veteran Heena Sindhu. And she was born in 2002! just 16yrs old!\", 'Flipkart now uniting long lost brothers.', 'In fond memory of Sushant Singh Rajput And recur demise of Indian Media', 'Deccan Herald does it again.', 'Waiting for such an address by the PM...', 'My flat has dealt damage due to Amphan, mother is recieving only 50% salary. Please hire me for some Freelance work', 'Hunger in Chennai (Madras), India, 1876', \"India's creativity.\", 'Who is the enemy?', 'An attempt to address the list of \"simplified\" explanation that is floating around in an attempt to justify the Citizenship Amendment Fact', 'Live IPL score on a taxi in Hyderabad', 'Deccan Herald Speak Out pokes Modiji with a dialogue from Amitabh Bachchan-Shashi Kapoor starrer Deewar. Deccan Herald 03-01-2020', \"Scientists Say Cow Urine Has 'Zero' Health Benefits & That Sounds Like Bad News For Indian Govt\", \"India (1950): 'The Wages of untouchables are wrapped in a leaf and dropped from a safe distance into their hands'.\", 'Hindus put up posters saying ‘sorry’ for mosque attack in Dwarka', \"It's big brain time..\", 'We are not a public authority - Govt', 'Supreme leader catching up with the trends...', 'Possible scam on the huge Youtube tech channel PhoneRadar. I am the winner. Need advice', 'My BRAHMOS 3d printed model finally finished 😊. It fins actually move when you tilt the rocket. It is powered by rocket flight computer TAARA that i am currently working on. Project link in the comment or you can follow the project update on youtube - Saste Jugaad . There will be full tutorial soon', 'Indian Air Force pilots. 1971 and 2019', 'This Thali!', '\"Baba Ka Dhaba\" Owner Files Complaint Against YouTuber Gaurav Wasan For Misappropriating Donations', 'Two lenses', 'Black Lives Matter I African nationals in India complain of being treated like second class citizens', 'Privileges!', '[NP] Wikipedia needs our help.', 'Whistleblower provides blocking orders for over 4000 websites #WhatTheBlock', 'Sacred Games season 1 fanart poster, by me', \"Mumbai police's recent tweet on scams.\", 'Shimla', 'Migrant Workers', 'The Unlawful Activities (Prevention) Act', 'Indian auto drivers during a traffic jam', 'Translation: Be careful. We ought to save ourselves too while we save them.', 'Mood Of The Nation Survey', \"Happy birthday SIR APJ ABDUL KALAM. The missile man would've been 88 today.\", 'Viral Hindu-Muslim, India-Pak lesbian couple celebrates anniversary with new pics. They are stunning', '7 day media plan.', 'For all our desi Calvin and Hobbes and Chacha Chaudhary fans!', 'LED traffic strip lights in Hyderabad', 'This grocery store in Kerala’s Ernakulam uses zero plastic', 'I made 13 illegal toll booth vanish overnight, milking 3-4 lakhs everyday, using RTI', \"Deccan Herald's Speak Out: 7th March 2019.\", \"The 90's is (calcium) strong with this one!\", \"No dissent allowed in the world's largest democracy\", 'Delhi Police Seized 160 Kg Ganja, Reported 1 Kg & Sold The Remaining; Also Let Off The Peddler', 'When you have more phones than toilets', \"This year's hand made Ganesha by my sis\", '[Showerthought] Netflix should provide a \"Skip Song\" Button for Indian movies.', 'First Cut by Manjul', 'I see your good boi in traffic with purrtty kitty in traffic.', 'Rahul Dravid \"I don\\'t think I can just get a doctorate because I happen to be a famous cricketer, I need to have done something to earn it.\" via book Democracy\\'s XI', 'Couldn’t gather data on migrant deaths', 'Jawaharlal Nehru Meeting Albert Einstein At Princeton, USA, 1949', 'All this drama just because of one break-up!', 'Bengal man who was out to buy milk dies after being beaten up by police', 'The Gold Standard.', 'Painted near cyber tower', 'Mornings at Mulki, India.', \"Today's March 32nd | Line of no control | TOI\", 'Deccan Herald showing what a hypocrite our PM is', 'Tinder scene in India', 'Firozabad police fact-checking zee news (translation in comments)', 'Wanted to share this piece I just finished with you guys, \"The messenger\"', \"India's poverty rate has started to rise after almost three decades of continuous reduction.\", 'Father of the year - SCLR Mumbai', \"Comparison Between 1 shot vs 240 exposures stacked together to demonstrate that you don't always need expensive equipment or a long drive to a darker area in order to capture the Milky Way Galaxy. Took this from Bhopal [Nikon D3100, 4608x6144][OC]\", 'What a shame :(', 'Railway police sent missing autistic kid on some random Goa baound Train please help.', 'Zomato delivery executives at Bawarchi, Hyderabad.', 'Some of you asked to see him when finished. Here he is! Ganesh - my 56,000 piece Diamond Painting. Hope you like him 👍🐘', 'Exclusive CCTV footage of police brutality in jamia millia islamia university on 15 December 2019', 'Winter is coming', 'Divided by religion', 'Sati updated.', 'Legendary singer SP Balasubrahmanyam dies at 74 in Chennai', 'Today on the first day of Bengali calendar, wishing all of you a very hearty Subho Noboborsho!!!', 'Each time Bollywood raises voice against Racism. Irony Dies.', \"People don't understand the differences between the army and the paramilitary. BUT THEY MUST.\", \"The whole world is trending #deletefacebook and we're trending this.\", 'Literally any talent show here.', 'Does my period really makes me impure?', 'Youth gathered yesterday in from of Palika Market- Delhi for a silent protest against climate change and to save our mother earth.', 'Landlord has cut our water supply and sent us a legal notice. We are a poor family of a divorced mother and 2 kids. Please read, it would mean a lot.', 'Root cause of the problem. This protest will be remembered for memes and sense of humor.', '📍Panampilly Nagar, Kochi, Kerala [No filter, No edit]', 'Hundreds of Police Killings in India, but No Mass Protests - The New York Times', 'An NBA activist showing black flag to Manmohan Singh in 2006. MMS encouraged dissent. Photo by Vikas Khot', 'The famous duo in new movie', 'Tamilnadu sending the correct people to prison', \"So apparently poor people aren't really struggling. Eating dog carcass on a highway is normal. Hungry kids is nothing new. Its just NDTV being anti-modi\", 'My friend raised a complaint on Urbanclap and CEO replied with this', \"I don't know how this was not a bigger national discussion. Almost a dozen Navy officers were arrested for spying for Pakistan recently under Operation Dolphin’s Nose\", 'I lost my dog. Please help and share this to as many people as possible living in and around West Delhi.', \"Netflix and other streaming services should have a 'Skip Song' feature (like 'Skip Intro) for Bollywood movies.\", 'Sab Changa Si', 'I started my Btech degree yesterday at the age of 25.', 'Google removes over 5 million reviews from Play Store to improve TikTok rating', \"Rahul Gandhi: 'Rahul Gandhi looked after us emotionally, monetarily, but asked us to keep it a secret,' says Nirbhaya's father [Nov, 2017)\", 'Equinox at Shri Padmanabha Swami Temple, Kerala', 'Was going through my grandpa’s stuffs and found this.', 'My grandmother, her children, and her sisters in pre-Partition India.', 'Madhubala - Marilyn Monroe of Bollywood', 'Bengaluru cops pose as passengers, collect Rs 8 lakh in fines from errant auto drivers. Bengaluru autorickshaw drivers were fined for refusing to ply to certain destinations, demanding more fare and also not having valid or improper documents.', 'GoT theme song played by \"Arambh\" band using bulbul and dhol tasha in dombivali, India on the occasion of gudi padwa. Thought reddit should see this.', 'The Indian military and para-military are doing something bizzare and unplanned', 'Abhay Deol slams ‘woke Indian celebrities’ talking about black lives but not minorities, migrants in India - bollywood', \"On today's The Hindu newspaper\", 'this new sign just went up at a karachi bakery in hyderabad', 'Each woman in this 1885 photograph was the first licensed female doctor in her respective country (India, Japan, and Syria) [xpost: /r/oldschoolcool]', 'Goon attacked my sister. I need advice on how to proceed further. Please help.', 'Staff from the Election Commission of India returning after conducting a local election in Leh. (Altitude above 10,000 feet)', 'I made the Taj Mahal in Far Cry 5!', 'A picture is worth a thousand words...', \"DuckDuckGo on Twitter: To our users in India: We’ve received many reports our search engine is unreachable by much of India right now and have confirmed it is not due to us. We're actively talking to Internet providers to get to the bottom of it ASAP. Thank you for your patience.\", 'Protester giving red rose to Delhi Police at Jantar Mantar', \"Chhattisgarh journalist Kamal Shukla's health is rapidly deteriorating and now he has also tested positive for Covid-19. | Two weeks he was beaten and threatened by Congress leaders and had went on fast unto death for 9 days, to demand justice. But action by the State Govt. remains elusive.\", 'Made Oreo Tiramisu. All easily available ingredients so final cost was ~Rs. 350 to make 1kg cake. Gourmet on a budget!!', 'This advice is so Indian and relevant, it made me laugh so hard.', 'A Clean Break [x-post r/Polandball]', \"Saw two gentlemen, one with a tray full water glasses and the other with a jug full, get on the bus at a traffic stop. Can't put into words how amazing this small gesture made me feel. [Musheerabad, Hyderabad]\", 'A view of the Taj Mahal that you do not usually see. (X-post from r/interestingasfuck) [NP]', \"I can't help but think about how much I was bullied in my school for being a South indian in north india.\", 'Anyone else sick of news reporting what celebrities are upto during the lockdown?', \"I meet these kids everyday when I go on my run. They're always happy.\", \"[OC] Today's lunch after a pooja at home\", '\"Overwhelmed,\" Says Delhi Mango Seller, Flooded By Donations After Loot', 'No Onion at Subway', 'White Hat Jr gets a partial gag order against Pradeep Poonia who now has to defend a ‘hacking’ charge as well | White Hat Jr has charged Pradeep Poonia of hacking and trademark violation aside from defamation.', 'Time to open our eyes...', 'Dislike', 'Mother Tongue by Region based on 2011 Census', 'Desperate times calls for desperate measures', 'Visuals from Ghaziabad where migrants have turned up in large numbers to get themselves registered for special trains.', 'Vegetables harvested from the terrace garden', '6,000 Copies Of Tripura Newspaper Destroyed For Exposing Rs 150 Cr Agriculture Scam Involving BJP Minister', \"[NP] We should really appreciate Mumbai Police's social media team.\", 'The government is lying to us.', 'These Indians in Russia with banner saying \"India coming soon!\"', 'My one day baby is interested in coding which is the best platform to learn?', \"'Privileged should try and create a better world': second-richest man in India gives $7.5 billion to his charitable foundation\", 'Shrinking economy, rising Corona', 'My 9 year-old niece wants to become a scientist for ISRO, and has some idea of how her Managalyaan should look like...', 'Delhi Elections 2020 by Sanitary Panels', 'Sushma Swaraj with The King, The Queen and The Prince of Bhutan', 'Interesting marketing strategy by an Indian restaurant', 'Goddess Kali drawn on a Starbucks cup by artist Rashmi Krishnappa. [Non OC]', 'Homemade Hyderabad Biryani', 'I took this image while travelling in the remote villages of Telangana. A man is getting ready to perform in a play while his daughter observes him with all wonder.', '#BREAKING - Father of the woman who said that she was raped by a BJP MLA & his accomplices, passed away, allegedly in police custody, after he was arrested yesterday. The woman & her family had attempted suicide outside UP CM Yogi Adityanath’s residence in Lucknow yesterday [P]', 'Life savers!', \"From Today's (29th Dec) massive rally in Pune against discriminatory CAA and NRC!\", 'India Gate', '\"Rioteers can be indentified by their Dress\"', 'Prime Time', 'Mural Painting done by my Mom', 'Dear kind people of this group.I would like to inform you that my friend who posted about his mental health issues here and got your unwavering support and love has passed away today morning after a tough fight with Corona .', 'BJPs campaign so far', 'Almost half finished: my Diamond Painting of Godess Lakshmi 🙏 hope you like her 🇮🇳.', 'SanitaryPanels strikes again.', 'Low cost carrom', \"Netmeds.com showing misleading numbers saying 'N people are viewing this item' while it is just random number.\", 'India conducted surgical strikes last night across LoC to safeguard our nation: Defence Ministry', '@TIME: “Though almost all of India’s Prime Ministers have come from the nearly 80% of the population that is Hindu, only @narendramodi has governed as if no one else matters,” @karl_vick writes #TIME100', 'India’s Sumit Nagal took down Roger Federer 6-4 in the first set!! Yay!!', 'One Country, Two Standards', \"ISRO's twitter handle just shared this imaged of the GSLV Mk3 launch\", 'The traffic police in this city is getting creative', 'Right to live with a person of choice, irrespective of religion, is intrinsic to right to life and personal liberty: Allahabad High Court', 'First Cut by Manjul', \"A Hero's Welcome (Artist: Uday Mohite)\", \"Corona has proven that India's bigger problem is not illiteracy, it's stupidity of literate people.\", 'Thank you, from a foreigner in Hyderabad', \"Who else remember the Beyblade tazos spinners come with lays & cheetos back in 2000's?\", 'A rare photo of Subhash Chandra Bose meeting with Hitler', 'Zomato being Tomato', 'In an upscale apartment society of India, maintenance committee teaching people about dog poop!', 'Lego golden temple', 'God bless India', 'Poster at Ahmedabad protest.', 'BJP Blocks Parliament Panel Review Of PM CARES Fund, Coronavirus Response', \"india's got talent\", 'Migrants on the Road', 'EXCLUSIVE: Documents Show Modi Govt Building 360 Degree Database To Track Every Indian: Documents obtained under RTI show the govt is planning to use Aadhaar to automatically track every single Indian – from who they marry, address changes, financial status – through the National Social Registry.', 'Hmm', \"#Breaking | A 16-year-old girl commits suicide in Kanpur after being let down by the cops. The cops didn't file an FIR against the 3 accused who gang-raped her.\", '87 years ago today, Shaheed Bhagat Singh was executed in Lahore, he was 23 years old.', '[Meme] Every Indian childhood ever.', 'Taj Mahal, Agra - 1980 : colorized by me [1176 x 1532]', 'Friends back in village have a book club, pic from this Sunday reading under banyan tree.', '12-Year-Old Walks 3 Days Amid Lockdown, Dies Just An Hour From Home', 'India just approved net neutrality rules that ban ‘any form’ of data discrimination', 'Mumbai: Man booked for calling Aaditya Thackeray ‘baby penguin’', 'Azad Hind Fauj (INA) training camp in Shanghai with Sikh recruits.', 'Reddit meetup 2018 - Kolkata', 'India’s WhiteHat Jr is startup hell', 'Jodhpur Railway Station. Cleanliness on point. 3120 x 4160, Asus Zenfone Max Pro M1, 13 MP', 'Real Priorities of our government [NP]', 'Save Water', 'A guy with a Higher degree than me, delivered my food today.', 'Cartoon by Rohan Chakravarty, 15 Feb 2020', 'The Pyramid od Capitalism in India', \"[OC] [Meme] India's massive Jio carrier is blocking VPN sites and violating net neutrality rules\", \"TIL: An Indian will spend one-fifth of this life's earning on a wedding ceremony\", 'Mamata Banerjee, Chief Minister of West Bengal, leading a rally against CAB.', 'A Hero Will Rise, digital art by Edwin Christo', 'Tata family has no special right, a non-Tata may one day head the Trusts: Ratan Tata', 'England divides, England unites.', \"66 years old Elderly cleric of one of the oldest and most respected Shia seminaries of Muzaffarnagar, Maulana Asad Raza Hussaini, a presidential award winner, brutally beaten up by Ajay Bisht's UP Police. (Source in comment)\", \"Exhausted nurses after a shift in a Dedicated Covid hospital in Odisha. I swear we don't thank them enough. These guys are awesome. (posted here with consent). Will be indebted to them all my life for taking care of my pappa.\", 'The Mizoram kid, Derek C Lalchhanhima, whose innocent act of taking a chick to hospital went viral yesterday was appreciated at his School St. Pio, Sairang today.', 'Thank you Reliance Fresh, very cool!!', 'Daddy loves you...', 'Lockdown scenes in Kurnool, Andhra Pradesh which already has around 203 cases so far.', 'Storm in Assam, Gauhati Today', 'I don’t want my child to inherit an India built on hate, says Rajiv Bajaj', 'Who else miss the old Cartoon Network Shows?', 'Our national pothole is here !', 'Flipping bottles is too mainstream', 'Help Simran', 'Architect converts auto rickshaw into mobile home complete with bed, kitchen and toilet.', 'This Manipur Man Has Single-Handedly Replanted A 300 Acre Forest And Saved Over 250 Species Of Plants', '[OC] A view from our campsite in Dallapalli, Andhra Pradesh. 4608x2304, Shot on OnePlus 5T. F1.7 ISO100.', 'Dealing with hunger!', 'So coincidental..', 'The chronology, as it stands.', 'Religion? Zero fs given by all other animals except us.', 'Hindu man gets severe burn injuries while saving six Muslims!', \"From Jakob's wall.\", 'CAB Bill 2019 - News/Protests/Editorials Megathread', 'This is massive! India wins 368 medals at Special Olympics Summer Games! Kudos!', 'Swiggy now delivers fresh fish?!', '[NP] This is Thameem. The Ambulance Driver who drove 518 kms in 6 hours from northern tip of Kerala to the Southern end. The ambulance was taking a 31 day old baby from Pariyaram Medical College (Kannur) to SAT Hospital (Trivandrum). The ambulance reached SAT at 03:15am today morning.', \"No Safety gear, no protection for construction workers. That's how building homes works in our country\", 'Excerpt by Ahsis Nandy from his interview with Modi in 1996', 'Govt. Refuses To Censor Netflix, Amazon Prime; Self-Regulation Will Be Supported!', 'New Delhi in 1950s. Clean air, without smog.', 'Shaheen Bagh right now', 'Kerala is pulling plastic from the oceans to build roads. Removed 25 tonnes of plastic from the Arabian Sea in first 10 months.', 'A few days ago, I shared the first of my India based comics - Brown Paperbag. The response has been overwhelming. I owe a lot of it to Reddit /r/India. So here are some more of them for those of you who are not on Facebook', '\"Nirvana\" (4000x6000 | Hussain Sagar, Hyderabad)', 'LODHA Group files INR 100 CRORE Defamation court against Youtuber Activist Krishnaraj Rao.', 'The neighbor kids and my puppy fell in love with each other at first sight', \"Let's all take a moment to appreciate the Dev Team's commitment here\", 'Just a reminder post', 'One Similarity.', 'Asianet News has an interpreter translating every word into Sign Language', 'Every Institution, Mechanism Or Tool That Is Designed To Hold The Executive Accountable Is Being Systematically Destroyed: Justice AP Shah', 'Netflix got no chill', '24 year old male with no degree', 'Rhea Chakraborty to Take Legal Action Against Media Houses', 'On this day 2 years ago , we lost these two brave warriors in the war against black money .', 'Mohammed Sharif, a bicycle mechanic who has been performing the last rites of thousands of unclaimed dead bodies for the last 25 years Awarded Padma Shri.', 'Stop being a racist!', 'Best 10 year challenge feat. Gujjuboi No. 1', 'The real Punjabi deal', 'Welcome home Dr. Kafeel Khan', \"If all in bollywood are called druggies then why aren't all in politics called rapists, murderers and scammers?\", 'Only in India.. at Mysore Zoo', 'Respect for whoever did this.', 'Panama Papers - In Pakistan it gets you Disqualified, In India you get to promote GST!', \"An Indian doctor chose to stay in China and treat coronavirus victims, despite his mother's pleas to return home\", '[OC] Polluted/ Smoggy Skies over Delhi vs Pollution free skies over Ladhak 😄 - Taken during flight from Leh to Delhi today. | 1080 x 1620', 'Narendra Modi vs Vivek Oberoi', 'Did you know?', \"My Pics were used for pornographic content and I don't know what to do.\", 'Breaking : State Of Kerala Files Suit In SC Against Union Govt Challenging Citizenship Amendment Act [Read Plaint]', 'My Covid-19 quarantine experience', 'A poster I did for Mtv India Biryani Emoticon campaign - This is done with completely Open source Software.', 'Standard Hot Chips Counter.', 'Deccan Herald Speak Out: October 30, 2020', 'Found this in r/propagandaposters. Couldn’t cross post so I just reposted it here. Looks like USSR couldn’t get our flag right.', \"Lenskart is an asshole. It won't let you unsubscribe from it's shitty emails by disabling the unsubscribe button\", 'Opened my taxation laws textbook and this is the first thing I saw. As Indian as it can get.', 'Perfect Sunday brunch in the autumn sun.', 'UP gangster Vikas Dubey killed while being taken to Kanpur after arrest yesterday', \"We're bleeding as a nation\", 'A traffic policeman fed a homeless woman who was too weak to eat on her own in Hyderabad, India (x-post from pics)', 'Azim Premji among the highest private donors for the covid19', 'Dog found in Jaipur (OnePlus5, 1306x979)', 'A friend of prepared meals and distributed it to the poor. Look at the smile. Photo taken in Cuttack, India. The city has been reeling under the rising covid cases and a city wide shutdown since weeks', 'Happy 99th birthday Satyajit Ray!', 'The very fact that we have fairness creams and celebrities promoting them is a racist ideology that needs to be crushed.', '[NP] Constable Sudarshan Shinde, saving a girl caught in Kamala Mills Fire in Mumbai. Risking his life, he saved 8 lives, carrying them on his shoulders.', 'Marine Drive pic taken yesterday..']\n",
            "['[R]eddiquette', 'Politics', '/r/all', 'r/all', 'Non-Political', 'Science/Technology', 'Non-Political', 'Non-Political', 'Politics', 'Food', 'Coronavirus', 'Coronavirus', 'Politics', 'Coronavirus', 'Business/Finance', 'r/all', 'Non-Political', 'Non-Political', 'Politics', 'Non-Political', 'Policy/Economy', '[R]eddiquette', 'Politics [Megathread]', 'Politics', 'Art/Photo (OC)', 'Non-Political', 'Non-Political', 'Non-Political', 'Politics', 'Politics', 'Non-Political', 'r/all', 'Coronavirus', 'Join r/IndiaMeme', 'Non-Political', '[R]eddiquette', 'Non-Political', 'Coronavirus', 'Politics', 'Non-Political', 'Non-Political', 'Coronavirus', 'Politics', 'Politics', 'Politics', 'Non-Political', 'Food', 'Non-Political', 'Business/Finance', 'Politics', 'r/indiameme', 'Non-Political', 'Coronavirus', 'Politics', 'Politics', 'Politics', 'Coronavirus', 'Politics', 'Politics', 'Non-Political', '[R]eddiquette', 'Non-Political', 'Politics', 'Coronavirus', 'r/indiameme', 'Non-Political', 'Politics', 'Business/Finance', 'Non-Political', 'Politics', 'Non-Political', 'Non-Political', 'Art/Photo (OC)', 'Politics', 'Politics', 'Coronavirus', 'Policy/Economy', 'Politics', 'History ', 'Politics', 'Art/Photo (OC)', 'Non-Political', 'Photography', 'Non-Political', 'Non-Political', 'Non-Political', 'Non-Political', 'Non-Political', 'Politics', 'Politics', 'Non-Political', 'Non-Political', 'Non-Political', 'Art/Photo (OC)', 'Photography', 'Politics', 'Totally real', 'Coronavirus', 'Politics', 'Non-Political', 'Non-Political', 'Non-Political', 'Non-Political', 'Sports', 'Non-Political', 'Non-Political', 'Art/Photo (OC)', 'Photography', 'Coronavirus', 'Non-Political', 'Politics', 'Non-Political', 'Non-Political', 'Politics', 'Politics', 'Politics', 'Non-Political', 'Non-Political', 'Politics', 'Non-Political', 'Non-Political', 'Non-Political', 'Non-Political', 'Non-Political', 'Non-Political', 'Policy/Economy', 'Non-Political', 'Art/Photo (OC)', 'Politics', 'Non-Political', 'Politics', 'Politics', 'Politics', 'Politics', 'Non-Political', 'Non-Political', 'Food', 'Business/Finance', 'Politics', 'Art/Photo (OC)', 'Business/Finance', 'Politics', 'Non-Political', 'Coronavirus', 'Business/Finance', 'Politics', 'Photography', 'Policy/Economy', 'Non-Political', 'Photography', 'Politics', 'Business/Finance', 'Photography', 'Non-Political', '[R]eddiquette', 'Non-Political', 'Coronavirus', 'Politics', 'Non-Political', 'Non-Political', 'Politics', 'Politics', 'Politics', 'Politics', '[R]eddiquette', 'Politics', 'Non-Political', 'Non-Political', 'Non-Political', 'Politics', 'Art/Photo (OC)', 'Politics', 'Policy/Economy', 'They Knew', 'Non-Political', 'Non-Political', 'Politics', 'Non-Political', 'Coronavirus', 'Food', 'Coronavirus', 'Politics', 'Politics', 'Non-Political', 'Non-Political', 'Photography', 'Politics', 'Non-Political', 'Unverified', 'Non-Political', 'Casual AMA', 'Food', 'Non-Political', 'Politics', 'Politics', 'Photography', 'Non-Political', 'Non-Political', 'Politics', 'Non-Political', 'Politics', 'Coronavirus', 'Moderated', 'Politics', 'Politics', 'Politics', 'Non-Political', 'Politics', 'Art/Photo (OC)', 'Politics', 'Non-Political', 'Politics', 'Non-Political', 'Politics', 'Sports', 'Non-Political', 'Coronavirus', 'Coronavirus', 'Non-Political', 'Politics', 'Photography', 'Coronavirus', 'Non-Political', 'Non-Political', 'Non-Political', 'Politics', 'Politics', 'Politics', 'Science/Technology', 'Non-Political', 'Politics', 'Non-Political', 'Politics', 'Politics', 'Non-Political', 'Coronavirus', 'Politics', 'Non-Political', 'Non-Political', 'Non-Political', 'Politics', 'Food', 'Non-Political', 'Food', 'Politics', 'Science/Technology', 'Politics', 'Non-Political', 'Politics', 'Politics', '[R]eddiquette', 'Politics', 'Coronavirus', 'Business/Finance', 'Politics', 'Non-Political', 'Non-Political', 'Art/Photo (OC)', 'Politics', 'Photography', 'Non-Political', 'Food', 'Politics', 'Coronavirus', 'Non-Political', 'Non-Political', 'Politics', '[R]eddiquette', 'Non-Political', 'Non-Political', 'Unverified', 'Politics', 'Politics', 'Science/Technology', '[R]eddiquette', 'Politics', 'Non-Political', 'Non-Political', 'Policy/Economy', 'Non-Political', 'Food', 'Non-Political', 'Non-Political', 'Politics', 'Non-Political', 'Politics', 'Photography', 'Politics', 'Non-Political', 'Politics', 'Politics', 'Non-Political', 'Non-Political', 'Non-Political', 'CAA-NRC', 'Non-Political', 'Non-Political', 'Non-Political', 'Non-Political', 'Politics', 'Non-Political', 'Non-Political', 'Non-Political', 'Non-Political', 'Non-Political', 'Non-Political', 'Coronavirus', 'Art/Photo (OC)', 'Non-Political', 'Non-Political', 'Sports', 'Non-Political', 'Politics', 'Politics', 'Politics', 'Politics', 'Politics', 'Non-Political', 'Non-Political', 'Policy/Economy', 'Politics', 'Politics', 'Politics', 'Zoke Tyme', 'Politics', 'Non-Political', 'Politics', 'Sports', 'Non-Political', 'Non-Political', 'Politics', 'Food', 'Politics', 'Politics', 'Non-Political', 'Politics', 'Non-Political', 'Non-Political', 'Non-Political', 'Non-Political', 'Non-Political', 'Non-Political', 'Non-Political', 'Sports', 'Politics', 'Non-Political', 'Sports', 'Politics', 'Non-Political', 'Politics', 'Politics', 'Politics', 'Coronavirus', 'Politics', 'Politics', 'Food', 'Non-Political', 'Non-Political', 'Politics', 'Photography', 'Photography', 'Politics', 'Politics', 'Non-Political', 'Non-Political', 'Non-Political', 'Non-Political', 'Non-Political', 'Non-Political', 'Non-Political', 'Non-Political', 'Politics', 'Politics', 'Non-Political', 'Coronavirus', 'Politics', 'Politics', 'Politics', 'Business/Finance', 'Non-Political', 'Politics', 'Official Sadness Thread', 'Non-Political', 'Politics', 'Photography', 'Politics', 'Politics', 'Non-Political', 'Politics', 'Demonetization', 'Science/Technology', 'Non-Political', 'Non-Political', 'Non-Political', 'Non-Political', 'Politics', 'Coronavirus', 'Non-Political', 'Non-Political', 'Coronavirus', 'Politics', 'Politics', 'Food', 'Politics', 'Non-Political', 'Coronavirus', 'Non-Political', 'Coronavirus', 'Food', 'Politics', 'Non-Political', 'Photography', 'Non-Political', 'Non-Political', 'Food', 'Coronavirus', 'TW for South Indian People', 'Photography', 'Business/Finance', 'Policy/Economy', 'Art/Photo (OC)', 'Politics', 'Politics', 'Non-Political', 'Business/Finance', 'Politics', 'Food', 'Politics', 'Politics', 'Coronavirus', 'Politics', 'Politics', 'Politics', '[R]eddiquette', 'Non-Political', 'Non-Political', 'Non-Political', 'Photography', 'Coronavirus', 'Politics', 'Politics', 'Non-Political', 'Non-Political', 'Art/Photo (OC)', 'Business/Finance', 'Non-Political', 'Business/Finance', 'Politics', 'Non-Political', 'Non-Political', 'Non-Political', 'Non-Political', 'Non-Political', 'Non-Political', 'Politics', 'Non-Political', 'Politics -- Source in comments', 'Non-Political', 'Non-Political', 'Food', 'Politics', 'Politics', 'Politics', 'Sports', 'Coronavirus', 'Non-Political', 'Coronavirus', 'Coronavirus', 'Non-Political', 'Politics', 'Non-Political', 'Politics', 'Photography', 'Politics', 'Politics', 'Politics', 'Coronavirus', 'Non-Political', 'Non-Political', 'Unverified', 'Politics', 'Politics', 'Politics', 'Non-Political', 'Policy & Economy', 'Non-Political', '[R]eddiquette', 'Non-Political', 'Photography', 'Food', 'Non-Political', 'Non-Political', 'Business/Finance', 'Politics', 'Politics', 'Science/Technology', 'Politics', 'Non-Political', 'Photography', 'Photography', 'Photography', 'Politics', 'Science/Technology', 'Non-Political', 'Politics', 'Politics', 'Politics', 'Politics', 'Sports', '[R]eddiquette', 'Food', 'Politics', 'Policy/Economy -2017 Article ', 'Non-Political', 'AskIndia', 'Food', 'Politics', 'Politics', 'Photography', 'Non-Political', 'Non-Political', 'Non-Political', 'Science/Technology', 'Politics', 'Non-Political', 'Non-Political', 'Non-Political', 'Politics', 'Politics', 'Politics', 'Non-Political', 'Non-Political', 'Politics', 'Coronavirus', 'Politics', 'Politics', 'Non-Political', 'Politics', 'Non-Political', 'Non-Political', 'Photography', 'Politics', 'Photography', 'Politics', 'Non-Political', 'Non-Political', 'Non-Political', 'Politics', 'Non-Political', 'Politics', 'Non-Political', 'Non-Political', 'Non-Political', 'Photography', 'Scheduled', 'Policy/Economy', 'Politics', 'Policy/Economy', 'Non-Political', 'Policy/Economy', 'Politics', 'Original Comics', 'Politics', 'Politics', 'Non-Political', 'Politics', 'Business/Finance', 'Non-Political', 'Non-Political', 'Non-Political', 'Business/Finance', 'Politics', 'Non-Political', 'Non-Political', 'Non-Political', 'Photography', 'Non-Political', 'Politics', 'Non-Political', 'Business/Finance', 'Non-Political', 'Politics', 'Politics', 'Sports', 'Policy/Economy', 'Politics', 'Sports', 'Non-Political', 'Sports', 'Non-Political', 'Politics', 'Politics', 'Food', 'Politics', 'Politics', 'Food', 'Non-Political', 'Politics', 'Policy/Economy', 'Non-Political', 'Politics', 'Non-Political', 'Politics', 'Non-Political', 'Non-Political', 'Politics', 'Non-Political', 'Politics', 'Policy/Economy', 'Non-Political', 'Business/Finance', 'Non-Political', 'Non-Political', 'Non-Political', 'Non-Political', 'Politics', 'Non-Political', 'Politics', 'Non-Political', 'Politics', 'Non-Political', 'Business/Finance', 'Politics', 'Sports', 'Sports', 'Coronavirus', 'Sports', 'Non-Political', 'Politics', 'Non-Political', 'Non-Political', 'Policy/Economy', 'Non-Political', 'Politics', 'Politics', 'Politics', 'Non-Political', 'Business/Finance', 'Non-Political', 'Politics', 'Non-Political', 'Politics', 'Politics', 'Food', 'Politics', 'Politics', 'Politics', 'Politics', 'Politics', 'Business/Finance', 'Politics', 'Coronavirus', 'Food', 'Politics', '[R]eddiquette', 'Non-Political', 'Politics', 'Politics', 'Non-Political', 'Politics', 'Politics', 'Politics', 'Politics', 'Politics', 'Non-Political', 'Politics', 'AskIndia', 'Politics', 'Non-Political', 'Non-Political', 'Non-Political', 'Science/Technology', 'Food', 'Politics', 'Food', 'Non-Political', 'Non-Political', 'Politics', 'Food', 'Photography', 'Non-Political', 'Non-Political', 'Non-Political', 'Politics', 'Non-Political', 'Food', 'Photography', 'Politics', 'Politics', 'Non-Political', 'Non-Political', 'Politics', 'Politics', 'Non-Political', 'Sports', 'Non-Political', 'Non-Political', 'Politics', 'Politics', 'AskIndia', '[R]eddiquette', 'Non-Political', 'Politics', 'Politics', 'Sports', 'Politics', 'Politics', 'Politics', 'CAA-NRC-NPR', 'Coronavirus', 'Politics', 'CAA-NRC', 'AskIndia', 'Science/Technology', 'Non-Political', 'Food', 'Non-Political', 'Politics', 'Politics', 'Coronavirus', 'Non-Political', 'Policy/Economy', 'Non-Political', 'Non-Political', 'Non-Political', 'Coronavirus', 'Politics', 'Non-Political', 'Coronavirus', 'Politics', 'Non-Political', '[R]eddiquette', 'Politics', 'Non-Political', 'Non-Political', 'Non-Political', 'Policy/Economy', 'Politics', 'Non-Political', 'Politics', 'Politics', 'Politics', '[R]eddiquette', 'Non-Political', 'Politics', 'Non-Political', 'Sports', 'Politics', 'Politics', 'Politics', 'Coronavirus', '[R]eddiquette', 'Photography', 'Photography', 'Coronavirus', 'Politics', 'Non-Political', 'Politics', 'Non-Political', 'Policy/Economy', 'Non-Political', 'Photography', 'Politics', 'AskIndia', 'Business/Finance', 'Non-Political', 'Politics', 'Non-Political', 'Non-Political', 'Politics', 'Non-Political', 'Non-Political', 'Non-Political', '[R]eddiquette', 'Non-Political', 'Non-Political', 'AskIndia', 'Non-Political', 'Unverified', 'Politics', 'Photography', 'Politics', 'Politics', 'Politics', 'Politics', 'Coronavirus', 'Unverified', 'Politics', 'Non-Political', 'Non-Political', 'Politics', 'Non-Political', 'Non-Political', 'Politics', 'Non-Political', 'Non-Political', 'Non-Political', 'Non-Political', 'Non-Political', 'Non-Political', 'Politics', 'Politics', 'Politics', 'Politics', 'Non-Political', 'Unverified', 'Non-Political', 'Non-Political', 'Politics', 'Science/Technology', 'Politics', 'Politics', 'Food', 'Non-Political', 'Non-Political', 'Non-Political', 'Non-Political', 'Non-Political', 'Non-Political', 'Non-Political', 'Food', 'Non-Political', 'Policy/Economy', 'Business/Finance', 'Politics', 'Politics', 'Non-Political', 'Unverified', 'Coronavirus', 'Food', 'Politics', 'Non-Political', 'Coronavirus', 'Sports', 'AskIndia', 'Non-Political', 'Politics', 'Non-Political', 'Politics', 'Politics', 'Unverified', 'Photography', 'Food', 'Non-Political', 'Politics', 'Non-Political', 'Politics', 'Politics', 'Politics', 'Politics', 'Photography', 'Unverified', 'Politics', 'Non-Political', 'Politics', 'Sports', 'Business/Finance', 'Politics', 'Politics', 'Sports', 'Politics', 'Science/Technology', 'Non-Political', 'Politics', 'Politics', 'Coronavirus', 'Coronavirus', 'Non-Political', 'Non-Political', 'Politics', 'Business/Finance', 'Non-Political', 'Non-Political', 'Science/Technology', 'Politics', 'Politics', 'Non-Political', 'Non-Political', 'Politics', 'Non-Political', 'Politics', 'Politics', 'Non-Political', 'Photography', 'Non-Political', 'Coronavirus', 'Policy/Economy', 'Politics', 'Non-Political', '[R]eddiquette', 'Business/Finance', 'Photography', 'Politics', 'Non-Political', 'Non-Political', 'Politics', 'Politics', 'Business/Finance', 'Non-Political', 'Politics', 'Non-Political', 'Business/Finance', 'Sports', 'Politics', 'Coronavirus', 'Non-Political', 'Non-Political', 'Politics', 'Coronavirus', 'Non-Political', 'Politics', 'AskIndia', 'Photography', 'Non-Political', 'Non-Political', 'why tho?', 'Non-Political', 'Photography', 'Politics', 'Politics', 'Politics', 'Non-Political', 'Politics', 'Politics', 'CAA-NRC', 'Sports', 'Non-Political', 'Non-Political', 'Non-Political', 'Politics', 'Misleading Headline ', 'Non-Political', 'CAA-NRC', 'Politics', 'Non-Political', 'Photography', 'Politics', 'Photography', 'Non-Political', 'Politics', 'Politics', 'Non-Political', 'Politics', 'Politics', 'AskIndia', 'Politics', 'Politics', 'Politics', 'Non-Political', 'Non-Political', 'Non-Political', 'Politics', 'Politics', 'Photography', 'Non-Political', 'Politics', 'Non-Political', 'Photography', 'Politics', 'Sports', 'Unverified', 'Politics', 'Non-Political', 'OC', 'Food', 'Politics', 'Politics', 'Non-Political', 'Non-Political', 'Food', 'Politics', 'Politics', 'Non-Political', 'Coronavirus', 'Photography', 'Unverified', 'Non-Political', 'Non-Political', 'Non-Political', 'Coronavirus']\n"
          ],
          "name": "stdout"
        }
      ]
    },
    {
      "cell_type": "code",
      "metadata": {
        "colab": {
          "base_uri": "https://localhost:8080/"
        },
        "id": "XxvnjlwYIdvc",
        "outputId": "c8a4e14f-29b0-4701-a0e5-4215fe1ea228"
      },
      "source": [
        "len(title) == len(flair) # Check if the above procedure is correct"
      ],
      "execution_count": 48,
      "outputs": [
        {
          "output_type": "execute_result",
          "data": {
            "text/plain": [
              "True"
            ]
          },
          "metadata": {
            "tags": []
          },
          "execution_count": 48
        }
      ]
    },
    {
      "cell_type": "code",
      "metadata": {
        "colab": {
          "base_uri": "https://localhost:8080/",
          "height": 415
        },
        "id": "KwrgHQRrK1Ep",
        "outputId": "174fc8f0-3a15-4884-d306-08d2eaacbffd"
      },
      "source": [
        "import pandas as pd\n",
        "df = pd.DataFrame(list(zip(title, flair)), columns = ['Title', 'Flair'])\n",
        "df"
      ],
      "execution_count": 49,
      "outputs": [
        {
          "output_type": "execute_result",
          "data": {
            "text/html": [
              "<div>\n",
              "<style scoped>\n",
              "    .dataframe tbody tr th:only-of-type {\n",
              "        vertical-align: middle;\n",
              "    }\n",
              "\n",
              "    .dataframe tbody tr th {\n",
              "        vertical-align: top;\n",
              "    }\n",
              "\n",
              "    .dataframe thead th {\n",
              "        text-align: right;\n",
              "    }\n",
              "</style>\n",
              "<table border=\"1\" class=\"dataframe\">\n",
              "  <thead>\n",
              "    <tr style=\"text-align: right;\">\n",
              "      <th></th>\n",
              "      <th>Title</th>\n",
              "      <th>Flair</th>\n",
              "    </tr>\n",
              "  </thead>\n",
              "  <tbody>\n",
              "    <tr>\n",
              "      <th>0</th>\n",
              "      <td>Will donate thrice the number of upvotes (amou...</td>\n",
              "      <td>[R]eddiquette</td>\n",
              "    </tr>\n",
              "    <tr>\n",
              "      <th>1</th>\n",
              "      <td>Fuck all Religion</td>\n",
              "      <td>Politics</td>\n",
              "    </tr>\n",
              "    <tr>\n",
              "      <th>2</th>\n",
              "      <td>Indian reply to NYtimes cartoon on Paris clima...</td>\n",
              "      <td>/r/all</td>\n",
              "    </tr>\n",
              "    <tr>\n",
              "      <th>3</th>\n",
              "      <td>The essence of the Indian soap opera, distille...</td>\n",
              "      <td>r/all</td>\n",
              "    </tr>\n",
              "    <tr>\n",
              "      <th>4</th>\n",
              "      <td>Lamborghini blocked by buffaloes in India</td>\n",
              "      <td>Non-Political</td>\n",
              "    </tr>\n",
              "    <tr>\n",
              "      <th>...</th>\n",
              "      <td>...</td>\n",
              "      <td>...</td>\n",
              "    </tr>\n",
              "    <tr>\n",
              "      <th>975</th>\n",
              "      <td>A friend of prepared meals and distributed it ...</td>\n",
              "      <td>Unverified</td>\n",
              "    </tr>\n",
              "    <tr>\n",
              "      <th>976</th>\n",
              "      <td>Happy 99th birthday Satyajit Ray!</td>\n",
              "      <td>Non-Political</td>\n",
              "    </tr>\n",
              "    <tr>\n",
              "      <th>977</th>\n",
              "      <td>The very fact that we have fairness creams and...</td>\n",
              "      <td>Non-Political</td>\n",
              "    </tr>\n",
              "    <tr>\n",
              "      <th>978</th>\n",
              "      <td>[NP] Constable Sudarshan Shinde, saving a girl...</td>\n",
              "      <td>Non-Political</td>\n",
              "    </tr>\n",
              "    <tr>\n",
              "      <th>979</th>\n",
              "      <td>Marine Drive pic taken yesterday..</td>\n",
              "      <td>Coronavirus</td>\n",
              "    </tr>\n",
              "  </tbody>\n",
              "</table>\n",
              "<p>980 rows × 2 columns</p>\n",
              "</div>"
            ],
            "text/plain": [
              "                                                 Title          Flair\n",
              "0    Will donate thrice the number of upvotes (amou...  [R]eddiquette\n",
              "1                                    Fuck all Religion       Politics\n",
              "2    Indian reply to NYtimes cartoon on Paris clima...         /r/all\n",
              "3    The essence of the Indian soap opera, distille...          r/all\n",
              "4            Lamborghini blocked by buffaloes in India  Non-Political\n",
              "..                                                 ...            ...\n",
              "975  A friend of prepared meals and distributed it ...     Unverified\n",
              "976                  Happy 99th birthday Satyajit Ray!  Non-Political\n",
              "977  The very fact that we have fairness creams and...  Non-Political\n",
              "978  [NP] Constable Sudarshan Shinde, saving a girl...  Non-Political\n",
              "979                 Marine Drive pic taken yesterday..    Coronavirus\n",
              "\n",
              "[980 rows x 2 columns]"
            ]
          },
          "metadata": {
            "tags": []
          },
          "execution_count": 49
        }
      ]
    },
    {
      "cell_type": "markdown",
      "metadata": {
        "id": "Y7kLxBMhdle8"
      },
      "source": [
        "## Exploratory Data Analysis (EDA)"
      ]
    },
    {
      "cell_type": "code",
      "metadata": {
        "id": "RQkII48CY-Yl"
      },
      "source": [
        "# In this, I have grouped similar name topics, like Politics and Politics [Megathread]\n",
        "\n",
        "df = df.replace(to_replace = \"Politics [Megathread]\", value = \"Politics\")\n",
        "df = df.replace(to_replace = \"Politics -- Source in comments\", value = \"Politics\")\n",
        "df = df.replace(to_replace = \"OC\", value = \"Art/Photo (OC)\")\n",
        "df = df.replace(to_replace = \"Policy/Economy\", value = \"Policy & Economy\")\n",
        "df = df.replace(to_replace = \"Policy/Economy -2017 Article\", value = \"Policy & Economy\")\n",
        "df = df.replace(to_replace = \"r/all\", value = \"/r/all\")\n",
        "df = df.replace(to_replace = \"Join r/IndiaMeme\", value = \"r/indiameme\")"
      ],
      "execution_count": 83,
      "outputs": []
    },
    {
      "cell_type": "code",
      "metadata": {
        "colab": {
          "base_uri": "https://localhost:8080/"
        },
        "id": "OUvf35XGctJL",
        "outputId": "04cfd016-7cad-4bdc-da74-3b0ee6aea68b"
      },
      "source": [
        "df.groupby('Flair').count()['Title']"
      ],
      "execution_count": 84,
      "outputs": [
        {
          "output_type": "execute_result",
          "data": {
            "text/plain": [
              "Flair\n",
              "/r/all                             4\n",
              "Art/Photo (OC)                    14\n",
              "AskIndia                           9\n",
              "Business/Finance                  28\n",
              "CAA-NRC                            4\n",
              "CAA-NRC-NPR                        1\n",
              "Casual AMA                         1\n",
              "Coronavirus                       56\n",
              "Demonetization                     1\n",
              "Food                              34\n",
              "History                            1\n",
              "Misleading Headline                1\n",
              "Moderated                          1\n",
              "Non-Political                    353\n",
              "Official Sadness Thread            1\n",
              "Original Comics                    1\n",
              "Photography                       44\n",
              "Policy & Economy                  21\n",
              "Policy/Economy -2017 Article       1\n",
              "Politics                         329\n",
              "Scheduled                          1\n",
              "Science/Technology                13\n",
              "Sports                            23\n",
              "TW for South Indian People         1\n",
              "They Knew                          1\n",
              "Totally real                       1\n",
              "Unverified                        11\n",
              "Zoke Tyme                          1\n",
              "[R]eddiquette                     19\n",
              "r/indiameme                        3\n",
              "why tho?                           1\n",
              "Name: Title, dtype: int64"
            ]
          },
          "metadata": {
            "tags": []
          },
          "execution_count": 84
        }
      ]
    },
    {
      "cell_type": "code",
      "metadata": {
        "id": "mO-y4dinLLrk"
      },
      "source": [
        "df.to_csv('Reddit_Flair_Detection_Data.csv') # Saving data"
      ],
      "execution_count": 85,
      "outputs": []
    },
    {
      "cell_type": "markdown",
      "metadata": {
        "id": "YNYb-VFfMJLI"
      },
      "source": [
        "## Building a Flare Detector\n",
        "Below, I have used Natural Language Processing (NLP) to process the titles of the post and predicted its flare. I have used a variety of algorithms for correct classificiation. "
      ]
    },
    {
      "cell_type": "code",
      "metadata": {
        "colab": {
          "base_uri": "https://localhost:8080/"
        },
        "id": "u1tv9lInLbrL",
        "outputId": "55d4a44c-ed69-46e0-e732-f0cb0c8a4242"
      },
      "source": [
        "import nltk\n",
        "nltk.download('stopwords')"
      ],
      "execution_count": 75,
      "outputs": [
        {
          "output_type": "stream",
          "text": [
            "[nltk_data] Downloading package stopwords to /root/nltk_data...\n",
            "[nltk_data]   Package stopwords is already up-to-date!\n"
          ],
          "name": "stdout"
        },
        {
          "output_type": "execute_result",
          "data": {
            "text/plain": [
              "True"
            ]
          },
          "metadata": {
            "tags": []
          },
          "execution_count": 75
        }
      ]
    },
    {
      "cell_type": "code",
      "metadata": {
        "colab": {
          "base_uri": "https://localhost:8080/"
        },
        "id": "xFm63Yw6Md5z",
        "outputId": "dd2fd72b-c1f3-4b0c-b350-0beec5ec5f1c"
      },
      "source": [
        "dataset = pd.read_csv(\"Reddit_Flair_Detection_Data.csv\")\n",
        "dataset.groupby('Flair').count()['Title']"
      ],
      "execution_count": 86,
      "outputs": [
        {
          "output_type": "execute_result",
          "data": {
            "text/plain": [
              "Flair\n",
              "/r/all                             4\n",
              "Art/Photo (OC)                    14\n",
              "AskIndia                           9\n",
              "Business/Finance                  28\n",
              "CAA-NRC                            4\n",
              "CAA-NRC-NPR                        1\n",
              "Casual AMA                         1\n",
              "Coronavirus                       56\n",
              "Demonetization                     1\n",
              "Food                              34\n",
              "History                            1\n",
              "Misleading Headline                1\n",
              "Moderated                          1\n",
              "Non-Political                    353\n",
              "Official Sadness Thread            1\n",
              "Original Comics                    1\n",
              "Photography                       44\n",
              "Policy & Economy                  21\n",
              "Policy/Economy -2017 Article       1\n",
              "Politics                         329\n",
              "Scheduled                          1\n",
              "Science/Technology                13\n",
              "Sports                            23\n",
              "TW for South Indian People         1\n",
              "They Knew                          1\n",
              "Totally real                       1\n",
              "Unverified                        11\n",
              "Zoke Tyme                          1\n",
              "[R]eddiquette                     19\n",
              "r/indiameme                        3\n",
              "why tho?                           1\n",
              "Name: Title, dtype: int64"
            ]
          },
          "metadata": {
            "tags": []
          },
          "execution_count": 86
        }
      ]
    },
    {
      "cell_type": "code",
      "metadata": {
        "colab": {
          "base_uri": "https://localhost:8080/"
        },
        "id": "Oi_BuRbxMw3l",
        "outputId": "1c36bf3e-1aed-4b55-ad2f-84b68890f29a"
      },
      "source": [
        "# Building corpus - This step would remove all the english stopwords such as and, the, etc. since they would not contribute\n",
        "# to the meaning of the title. Basic processing such as lower, split have been performed. \n",
        "\n",
        "import concurrent.futures\n",
        "import re\n",
        "from tqdm import tqdm\n",
        "from nltk.corpus import stopwords\n",
        "from nltk.stem.porter import PorterStemmer\n",
        "\n",
        "corpus = []\n",
        "with concurrent.futures.ProcessPoolExecutor() as executor:\n",
        "    for i in tqdm(range(0, dataset.shape[0])):\n",
        "        book = re.sub('[^a-zA-Z]', ' ', dataset['Title'][i]) # Filter non alphabetical chars\n",
        "        book = book.lower() # Convert to lowercase\n",
        "        book = book.split() # Split on spaces\n",
        "        ps = PorterStemmer() # Stem\n",
        "        book = [ps.stem(word) for word in book if not word in set(stopwords.words('english'))]\n",
        "        book = ' '.join(book) \n",
        "        corpus.append(book)"
      ],
      "execution_count": 87,
      "outputs": [
        {
          "output_type": "stream",
          "text": [
            "100%|██████████| 980/980 [00:01<00:00, 543.90it/s]\n"
          ],
          "name": "stderr"
        }
      ]
    },
    {
      "cell_type": "code",
      "metadata": {
        "id": "1vrfFbrrM_17"
      },
      "source": [
        "from sklearn.feature_extraction.text import TfidfVectorizer\n",
        "vectorizer = TfidfVectorizer()\n",
        "X = vectorizer.fit_transform(corpus)"
      ],
      "execution_count": 88,
      "outputs": []
    },
    {
      "cell_type": "code",
      "metadata": {
        "id": "jLmlVVWyNDkJ"
      },
      "source": [
        "from sklearn.preprocessing import LabelEncoder\n",
        "label_encoder = LabelEncoder()\n",
        "y = dataset['Flair'].values # Get target categories\n",
        "y = label_encoder.fit_transform(y) # Encode category labels to integers"
      ],
      "execution_count": 89,
      "outputs": []
    },
    {
      "cell_type": "code",
      "metadata": {
        "colab": {
          "base_uri": "https://localhost:8080/"
        },
        "id": "jZhEf1CrNpOc",
        "outputId": "2d792994-5efa-4cf6-868e-7fa99b47aae5"
      },
      "source": [
        "from sklearn.model_selection import train_test_split\n",
        "\n",
        "# Splitting the dataset into the Training set and Test set\n",
        "X_train, X_test, y_train, y_test = train_test_split(X, y, test_size = 0.01, random_state = 0)\n",
        "print(X_train.shape, X_test.shape)"
      ],
      "execution_count": 90,
      "outputs": [
        {
          "output_type": "stream",
          "text": [
            "(970, 3017) (10, 3017)\n"
          ],
          "name": "stdout"
        }
      ]
    },
    {
      "cell_type": "code",
      "metadata": {
        "colab": {
          "base_uri": "https://localhost:8080/"
        },
        "id": "i4JQUUv4NtSJ",
        "outputId": "2410e69b-8f78-48b7-d1b9-07eb1645c4c6"
      },
      "source": [
        "name_map = pd.DataFrame.from_dict(dict(zip(label_encoder.classes_, \n",
        "                                           label_encoder.transform(label_encoder.classes_))), \n",
        "                                  orient='index')\n",
        "print(name_map)"
      ],
      "execution_count": 91,
      "outputs": [
        {
          "output_type": "stream",
          "text": [
            "                                0\n",
            "/r/all                          0\n",
            "Art/Photo (OC)                  1\n",
            "AskIndia                        2\n",
            "Business/Finance                3\n",
            "CAA-NRC                         4\n",
            "CAA-NRC-NPR                     5\n",
            "Casual AMA                      6\n",
            "Coronavirus                     7\n",
            "Demonetization                  8\n",
            "Food                            9\n",
            "History                        10\n",
            "Misleading Headline            11\n",
            "Moderated                      12\n",
            "Non-Political                  13\n",
            "Official Sadness Thread        14\n",
            "Original Comics                15\n",
            "Photography                    16\n",
            "Policy & Economy               17\n",
            "Policy/Economy -2017 Article   18\n",
            "Politics                       19\n",
            "Scheduled                      20\n",
            "Science/Technology             21\n",
            "Sports                         22\n",
            "TW for South Indian People     23\n",
            "They Knew                      24\n",
            "Totally real                   25\n",
            "Unverified                     26\n",
            "Zoke Tyme                      27\n",
            "[R]eddiquette                  28\n",
            "r/indiameme                    29\n",
            "why tho?                       30\n"
          ],
          "name": "stdout"
        }
      ]
    },
    {
      "cell_type": "code",
      "metadata": {
        "id": "q7x8_md7PU6l"
      },
      "source": [
        "## This import is useful later \n",
        "from sklearn.metrics import classification_report, accuracy_score"
      ],
      "execution_count": 92,
      "outputs": []
    },
    {
      "cell_type": "code",
      "metadata": {
        "colab": {
          "base_uri": "https://localhost:8080/"
        },
        "id": "9aILV9yoPYOS",
        "outputId": "1ff68657-1def-4edb-9b39-7eeba265b482"
      },
      "source": [
        "# Logistic Regression\n",
        "\n",
        "from sklearn.linear_model import LogisticRegression\n",
        "lr = LogisticRegression(solver='sag',max_iter=200,random_state=450,\n",
        "                                             n_jobs=4, verbose=True)\n",
        "lr.fit(X_train, y_train)\n",
        "        \n",
        "# Evaluate on train and test set\n",
        "print(\"Train set score:\", lr.score(X_train, y_train))\n",
        "print(\"Test set score:\", lr.score(X_test, y_test))\n",
        "\n",
        "# Generate classification report\n",
        "y_pred = lr.predict(X_test)\n",
        "print(classification_report(y_test.astype(int), y_pred))"
      ],
      "execution_count": 93,
      "outputs": [
        {
          "output_type": "stream",
          "text": [
            "[Parallel(n_jobs=4)]: Using backend ThreadingBackend with 4 concurrent workers.\n"
          ],
          "name": "stderr"
        },
        {
          "output_type": "stream",
          "text": [
            "convergence after 56 epochs took 0 seconds\n",
            "Train set score: 0.6938144329896907\n",
            "Test set score: 0.4\n",
            "              precision    recall  f1-score   support\n",
            "\n",
            "           7       0.00      0.00      0.00         2\n",
            "           9       0.00      0.00      0.00         1\n",
            "          13       0.25      1.00      0.40         2\n",
            "          16       0.00      0.00      0.00         1\n",
            "          19       1.00      0.50      0.67         4\n",
            "\n",
            "    accuracy                           0.40        10\n",
            "   macro avg       0.25      0.30      0.21        10\n",
            "weighted avg       0.45      0.40      0.35        10\n",
            "\n"
          ],
          "name": "stdout"
        },
        {
          "output_type": "stream",
          "text": [
            "[Parallel(n_jobs=4)]: Done   1 out of   1 | elapsed:    0.2s finished\n",
            "/usr/local/lib/python3.6/dist-packages/sklearn/metrics/_classification.py:1272: UndefinedMetricWarning: Precision and F-score are ill-defined and being set to 0.0 in labels with no predicted samples. Use `zero_division` parameter to control this behavior.\n",
            "  _warn_prf(average, modifier, msg_start, len(result))\n"
          ],
          "name": "stderr"
        }
      ]
    },
    {
      "cell_type": "code",
      "metadata": {
        "colab": {
          "base_uri": "https://localhost:8080/"
        },
        "id": "Np2w-9a_PgGa",
        "outputId": "af9bf889-1759-4ac8-ce9f-864350ed9f7e"
      },
      "source": [
        "# Random Forest\n",
        "\n",
        "from sklearn.ensemble import RandomForestClassifier\n",
        "\n",
        "rf = RandomForestClassifier(n_estimators=50, max_depth=200, criterion='entropy', \n",
        "                                    warm_start=True, n_jobs=4, verbose=True)\n",
        "rf.fit(X_train, y_train)\n",
        "\n",
        "# Evaluate on train and test set\n",
        "print(\"Train set score:\", rf.score(X_train, y_train))\n",
        "print(\"Test set score:\", rf.score(X_test, y_test))\n",
        "\n",
        "# Generate classification report\n",
        "y_pred = rf.predict(X_test)\n",
        "print(classification_report(y_test.astype(int), y_pred))"
      ],
      "execution_count": 94,
      "outputs": [
        {
          "output_type": "stream",
          "text": [
            "[Parallel(n_jobs=4)]: Using backend ThreadingBackend with 4 concurrent workers.\n",
            "[Parallel(n_jobs=4)]: Done  42 tasks      | elapsed:    0.4s\n",
            "[Parallel(n_jobs=4)]: Done  50 out of  50 | elapsed:    0.4s finished\n",
            "[Parallel(n_jobs=4)]: Using backend ThreadingBackend with 4 concurrent workers.\n",
            "[Parallel(n_jobs=4)]: Done  42 tasks      | elapsed:    0.0s\n",
            "[Parallel(n_jobs=4)]: Done  50 out of  50 | elapsed:    0.0s finished\n"
          ],
          "name": "stderr"
        },
        {
          "output_type": "stream",
          "text": [
            "Train set score: 0.9927835051546392\n",
            "Test set score: 0.4\n"
          ],
          "name": "stdout"
        },
        {
          "output_type": "stream",
          "text": [
            "[Parallel(n_jobs=4)]: Using backend ThreadingBackend with 4 concurrent workers.\n",
            "[Parallel(n_jobs=4)]: Done  42 tasks      | elapsed:    0.0s\n",
            "[Parallel(n_jobs=4)]: Done  50 out of  50 | elapsed:    0.0s finished\n",
            "[Parallel(n_jobs=4)]: Using backend ThreadingBackend with 4 concurrent workers.\n",
            "[Parallel(n_jobs=4)]: Done  42 tasks      | elapsed:    0.0s\n",
            "[Parallel(n_jobs=4)]: Done  50 out of  50 | elapsed:    0.0s finished\n"
          ],
          "name": "stderr"
        },
        {
          "output_type": "stream",
          "text": [
            "              precision    recall  f1-score   support\n",
            "\n",
            "           7       0.00      0.00      0.00         2\n",
            "           9       0.00      0.00      0.00         1\n",
            "          13       0.17      0.50      0.25         2\n",
            "          16       0.00      0.00      0.00         1\n",
            "          19       0.75      0.75      0.75         4\n",
            "\n",
            "    accuracy                           0.40        10\n",
            "   macro avg       0.18      0.25      0.20        10\n",
            "weighted avg       0.33      0.40      0.35        10\n",
            "\n"
          ],
          "name": "stdout"
        },
        {
          "output_type": "stream",
          "text": [
            "/usr/local/lib/python3.6/dist-packages/sklearn/metrics/_classification.py:1272: UndefinedMetricWarning: Precision and F-score are ill-defined and being set to 0.0 in labels with no predicted samples. Use `zero_division` parameter to control this behavior.\n",
            "  _warn_prf(average, modifier, msg_start, len(result))\n"
          ],
          "name": "stderr"
        }
      ]
    },
    {
      "cell_type": "code",
      "metadata": {
        "colab": {
          "base_uri": "https://localhost:8080/"
        },
        "id": "kv0AUp-9PpNQ",
        "outputId": "fcd4e5a5-91f0-48ae-a2fa-4d44257d76a9"
      },
      "source": [
        "# XGBoost\n",
        "\n",
        "from xgboost import XGBClassifier\n",
        "import joblib\n",
        "\n",
        "xgb = XGBClassifier(max_depth=50, n_estimators=100, booster='gbtree',\n",
        "                            objective='reg:logistic', gamma=0.1, rate_drop=0.3, \n",
        "                            nthread=4, verbosity=0);\n",
        "xgb.fit(X_train, y_train)\n",
        "\n",
        "# Evaluate and dump\n",
        "print(\"Train set score:\", xgb.score(X_train, y_train))\n",
        "print(\"Test set score:\", xgb.score(X_test, y_test))\n",
        "# Generate classification report\n",
        "y_pred = xgb.predict(X_test)\n",
        "print(classification_report(y_test.astype(int), y_pred))\n",
        "\n",
        "# Save the model\n",
        "joblib.dump(name_map, './name_map.joblib', compress = True)\n",
        "joblib.dump(xgb, './gradient_boost.joblib', compress = True)"
      ],
      "execution_count": 95,
      "outputs": [
        {
          "output_type": "stream",
          "text": [
            "Train set score: 0.8649484536082475\n",
            "Test set score: 0.3\n",
            "              precision    recall  f1-score   support\n",
            "\n",
            "           7       0.00      0.00      0.00         2\n",
            "           9       0.00      0.00      0.00         1\n",
            "          10       0.00      0.00      0.00         0\n",
            "          13       0.17      0.50      0.25         2\n",
            "          16       0.00      0.00      0.00         1\n",
            "          19       0.67      0.50      0.57         4\n",
            "\n",
            "    accuracy                           0.30        10\n",
            "   macro avg       0.14      0.17      0.14        10\n",
            "weighted avg       0.30      0.30      0.28        10\n",
            "\n"
          ],
          "name": "stdout"
        },
        {
          "output_type": "stream",
          "text": [
            "/usr/local/lib/python3.6/dist-packages/sklearn/metrics/_classification.py:1272: UndefinedMetricWarning: Precision and F-score are ill-defined and being set to 0.0 in labels with no predicted samples. Use `zero_division` parameter to control this behavior.\n",
            "  _warn_prf(average, modifier, msg_start, len(result))\n",
            "/usr/local/lib/python3.6/dist-packages/sklearn/metrics/_classification.py:1272: UndefinedMetricWarning: Recall and F-score are ill-defined and being set to 0.0 in labels with no true samples. Use `zero_division` parameter to control this behavior.\n",
            "  _warn_prf(average, modifier, msg_start, len(result))\n"
          ],
          "name": "stderr"
        },
        {
          "output_type": "execute_result",
          "data": {
            "text/plain": [
              "['./gradient_boost.joblib']"
            ]
          },
          "metadata": {
            "tags": []
          },
          "execution_count": 95
        }
      ]
    },
    {
      "cell_type": "code",
      "metadata": {
        "colab": {
          "base_uri": "https://localhost:8080/"
        },
        "id": "2KmKdzcXPuOL",
        "outputId": "a7857d10-b9db-4729-d7f2-5445cae86a24"
      },
      "source": [
        "# Multinomial Naive Bayes\n",
        "\n",
        "from sklearn.naive_bayes import MultinomialNB\n",
        "import pickle\n",
        "nb = MultinomialNB(alpha=0.1, fit_prior=True, class_prior=None)\n",
        "nb.fit(X_train, y_train)\n",
        "    \n",
        "# Evaluate and dump\n",
        "print(\"Train set score:\", nb.score(X_train, y_train))\n",
        "print(\"Test set score:\", nb.score(X_test, y_test))\n",
        "model = open(\"model.pkl\", \"ab\")\n",
        "pickle.dump(nb, model)\n",
        "\n",
        "# Generate classification report\n",
        "y_pred = nb.predict(X_test)\n",
        "print(classification_report(y_test.astype(int), y_pred))"
      ],
      "execution_count": 102,
      "outputs": [
        {
          "output_type": "stream",
          "text": [
            "Train set score: 0.9288659793814433\n",
            "Test set score: 0.7\n",
            "              precision    recall  f1-score   support\n",
            "\n",
            "           7       1.00      0.50      0.67         2\n",
            "           9       1.00      1.00      1.00         1\n",
            "          13       0.40      1.00      0.57         2\n",
            "          16       0.00      0.00      0.00         1\n",
            "          19       1.00      0.75      0.86         4\n",
            "\n",
            "    accuracy                           0.70        10\n",
            "   macro avg       0.68      0.65      0.62        10\n",
            "weighted avg       0.78      0.70      0.69        10\n",
            "\n"
          ],
          "name": "stdout"
        },
        {
          "output_type": "stream",
          "text": [
            "/usr/local/lib/python3.6/dist-packages/sklearn/metrics/_classification.py:1272: UndefinedMetricWarning: Precision and F-score are ill-defined and being set to 0.0 in labels with no predicted samples. Use `zero_division` parameter to control this behavior.\n",
            "  _warn_prf(average, modifier, msg_start, len(result))\n"
          ],
          "name": "stderr"
        }
      ]
    },
    {
      "cell_type": "code",
      "metadata": {
        "colab": {
          "base_uri": "https://localhost:8080/",
          "height": 408
        },
        "id": "cGb68CciP0IR",
        "outputId": "72c07e57-67f3-4122-ce15-1c0f03a55586"
      },
      "source": [
        "# We will use Multinomial Naive Bayes since it has the maximum accuracy.\n",
        "# We can see below that the accuracy score is 70%. \n",
        "# Accuracy and other measures\n",
        "from sklearn import metrics\n",
        "import seaborn as sns\n",
        "\n",
        "print('Accuracy Score : ', metrics.accuracy_score(y_true = y_test, y_pred = y_pred))\n",
        "print('Confusion Matrix : ')\n",
        "cm = metrics.confusion_matrix(y_true = y_test, y_pred = y_pred)\n",
        "print(cm)\n",
        "sns.heatmap(cm, annot = True, cmap = 'plasma')"
      ],
      "execution_count": 100,
      "outputs": [
        {
          "output_type": "stream",
          "text": [
            "Accuracy Score :  0.7\n",
            "Confusion Matrix : \n",
            "[[1 0 1 0 0]\n",
            " [0 1 0 0 0]\n",
            " [0 0 2 0 0]\n",
            " [0 0 1 0 0]\n",
            " [0 0 1 0 3]]\n"
          ],
          "name": "stdout"
        },
        {
          "output_type": "execute_result",
          "data": {
            "text/plain": [
              "<matplotlib.axes._subplots.AxesSubplot at 0x7f43e8ac1198>"
            ]
          },
          "metadata": {
            "tags": []
          },
          "execution_count": 100
        },
        {
          "output_type": "display_data",
          "data": {
            "image/png": "[encoded data removed]",
            "text/plain": [
              "<Figure size 432x288 with 2 Axes>"
            ]
          },
          "metadata": {
            "tags": [],
            "needs_background": "light"
          }
        }
      ]
    },
    {
      "cell_type": "markdown",
      "metadata": {
        "id": "mcLJLmdelYMA"
      },
      "source": [
        "Advantages of the developed model - \n",
        "1. It will take only the title of the post to make classification.\n",
        "\n",
        "Disadvantages - \n",
        "1. It does not analyze the image and the body of the post. "
      ]
    },
    {
      "cell_type": "code",
      "metadata": {
        "id": "NQDU7hPAgzY6"
      },
      "source": [
        ""
      ],
      "execution_count": null,
      "outputs": []
    }
  ]
}